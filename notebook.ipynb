{
 "cells": [
  {
   "cell_type": "code",
   "execution_count": 1,
   "metadata": {},
   "outputs": [],
   "source": [
    "%load_ext autoreload\n",
    "%autoreload 2"
   ]
  },
  {
   "cell_type": "code",
   "execution_count": 2,
   "metadata": {},
   "outputs": [],
   "source": [
    "import biolqm\n",
    "import numpy as np\n",
    "import boolean\n",
    "import colomoto.minibn as minibn"
   ]
  },
  {
   "cell_type": "markdown",
   "metadata": {},
   "source": [
    "### Building STG table"
   ]
  },
  {
   "cell_type": "markdown",
   "metadata": {},
   "source": [
    "##### First, loading the model as a minibn"
   ]
  },
  {
   "cell_type": "code",
   "execution_count": 3,
   "metadata": {},
   "outputs": [],
   "source": [
    "bnet_model = biolqm.load(\"model_files/krasmodel15vars.bnet\", \"bnet\")"
   ]
  },
  {
   "cell_type": "code",
   "execution_count": 4,
   "metadata": {},
   "outputs": [],
   "source": [
    "model = biolqm.to_minibn(bnet_model)"
   ]
  },
  {
   "cell_type": "code",
   "execution_count": 5,
   "metadata": {},
   "outputs": [
    {
     "data": {
      "text/plain": [
       "['cc',\n",
       " 'KRAS',\n",
       " 'DSB',\n",
       " 'CHEK1',\n",
       " 'MAPKAPK2',\n",
       " 'FAHRR',\n",
       " 'HRR2',\n",
       " 'CDC25B',\n",
       " 'g2m_trans',\n",
       " 'cell_death',\n",
       " 'ATM',\n",
       " 'ATR',\n",
       " 'FAcore',\n",
       " 'FANCD2I',\n",
       " 'NHEJ']"
      ]
     },
     "execution_count": 5,
     "metadata": {},
     "output_type": "execute_result"
    }
   ],
   "source": [
    "# The list order of the model's keys is different from Mihaly list's order. So we fix it, to be the same as Mihaly\n",
    "nodes = [\n",
    "    \"cc\", \"KRAS\", \"DSB\", \"CHEK1\", \"MAPKAPK2\", \"FAHRR\", \"HRR2\", \"CDC25B\", \"g2m_trans\", \"cell_death\", \n",
    "    \"ATM\", \"ATR\", \"FAcore\", \"FANCD2I\", \"NHEJ\"\n",
    "]\n",
    "nodes"
   ]
  },
  {
   "cell_type": "code",
   "execution_count": 6,
   "metadata": {},
   "outputs": [
    {
     "data": {
      "text/plain": [
       "15"
      ]
     },
     "execution_count": 6,
     "metadata": {},
     "output_type": "execute_result"
    }
   ],
   "source": [
    "n=len(nodes)\n",
    "n"
   ]
  },
  {
   "cell_type": "markdown",
   "metadata": {},
   "source": [
    "##### Then, building the list of binary states"
   ]
  },
  {
   "cell_type": "code",
   "execution_count": 7,
   "metadata": {},
   "outputs": [
    {
     "data": {
      "text/plain": [
       "array([[    0,     1,     2, ..., 32765, 32766, 32767]])"
      ]
     },
     "execution_count": 7,
     "metadata": {},
     "output_type": "execute_result"
    }
   ],
   "source": [
    "x = np.array([range(pow(2, n))])\n",
    "x"
   ]
  },
  {
   "cell_type": "code",
   "execution_count": 8,
   "metadata": {},
   "outputs": [
    {
     "data": {
      "text/plain": [
       "array([[1.00000000e+00, 5.00000000e-01, 2.50000000e-01, 1.25000000e-01,\n",
       "        6.25000000e-02, 3.12500000e-02, 1.56250000e-02, 7.81250000e-03,\n",
       "        3.90625000e-03, 1.95312500e-03, 9.76562500e-04, 4.88281250e-04,\n",
       "        2.44140625e-04, 1.22070312e-04, 6.10351562e-05]])"
      ]
     },
     "execution_count": 8,
     "metadata": {},
     "output_type": "execute_result"
    }
   ],
   "source": [
    "y = np.array([np.power([2.0]*n, np.array(list(range(0, -n, -1))))])\n",
    "y"
   ]
  },
  {
   "cell_type": "code",
   "execution_count": 9,
   "metadata": {},
   "outputs": [],
   "source": [
    "list_binary_states = np.remainder(np.floor(np.multiply(x.transpose(), y)), 2).astype(bool)"
   ]
  },
  {
   "cell_type": "code",
   "execution_count": 10,
   "metadata": {},
   "outputs": [
    {
     "data": {
      "text/plain": [
       "(32768, 15)"
      ]
     },
     "execution_count": 10,
     "metadata": {},
     "output_type": "execute_result"
    }
   ],
   "source": [
    "np.shape(list_binary_states)"
   ]
  },
  {
   "cell_type": "markdown",
   "metadata": {},
   "source": [
    "##### Then, building the update matrix"
   ]
  },
  {
   "cell_type": "code",
   "execution_count": 11,
   "metadata": {},
   "outputs": [],
   "source": [
    "def gen_array(formula, list_binary_states, nodes):\n",
    "\n",
    "    if isinstance(formula, boolean.boolean.Symbol):\n",
    "        return list_binary_states[:, nodes.index(str(formula))]\n",
    "    \n",
    "    elif isinstance(formula, boolean.boolean.NOT) or isinstance(formula, minibn.NOT):\n",
    "        return np.logical_not(\n",
    "            gen_array(formula.args[0], list_binary_states, nodes)\n",
    "        )\n",
    "    \n",
    "    elif isinstance(formula, boolean.boolean.OR):\n",
    "        ret = gen_array(formula.args[0], list_binary_states, nodes)\n",
    "        for i in range(1, len(formula.args)):\n",
    "            ret = np.logical_or(ret, \n",
    "                gen_array(formula.args[i], list_binary_states, nodes)\n",
    "            )\n",
    "        return ret\n",
    "    \n",
    "    elif isinstance(formula, boolean.boolean.AND):\n",
    "        ret = gen_array(formula.args[0], list_binary_states, nodes)\n",
    "        for i in range(1, len(formula.args)):\n",
    "            ret = np.logical_and(ret, \n",
    "                gen_array(formula.args[i], list_binary_states, nodes)\n",
    "            )\n",
    "        return ret\n",
    "    \n",
    "    else:\n",
    "        print(\"Unknown boolean operator : %s\" % type(formula))"
   ]
  },
  {
   "cell_type": "code",
   "execution_count": 12,
   "metadata": {},
   "outputs": [],
   "source": [
    "update_matrix = np.array(\n",
    "    [\n",
    "        gen_array(model[node], list_binary_states, nodes) \n",
    "        for node in nodes\n",
    "    ]\n",
    ").transpose()"
   ]
  },
  {
   "cell_type": "code",
   "execution_count": 13,
   "metadata": {},
   "outputs": [
    {
     "data": {
      "text/plain": [
       "(32768, 15)"
      ]
     },
     "execution_count": 13,
     "metadata": {},
     "output_type": "execute_result"
    }
   ],
   "source": [
    "np.shape(update_matrix)"
   ]
  },
  {
   "cell_type": "markdown",
   "metadata": {},
   "source": [
    "It should be using scipy's sparse matricies, but for now it's ok"
   ]
  },
  {
   "cell_type": "markdown",
   "metadata": {},
   "source": [
    "##### Build up/down trans source/target"
   ]
  },
  {
   "cell_type": "code",
   "execution_count": 14,
   "metadata": {},
   "outputs": [],
   "source": [
    "def fcn_states_inds(yes_no, n_series_exp, n_isl_exp):\n",
    "    # Here we have the problem of array indices from matlab (1...n) that are different \n",
    "    # Shoud we just substract one at the end ? Yes we should, but not only\n",
    "    #\n",
    "    # n_isl_exp is the indice of the up matrix column, so we should increase it by one\n",
    "    # (because our input will be already decrease by one)\n",
    "    # yes_no should be some boolean value, hopefully. So we don't touch\n",
    "    # n_series_exp is the number of nodes, so it should already be ok\n",
    "    \n",
    "    n_series_exp = n_series_exp - 1\n",
    "#     n_isl_exp = n_isl_exp - 1\n",
    "    yes_no = yes_no - 1\n",
    "    \n",
    "    f_mat = np.array(\n",
    "        range(\n",
    "            1, \n",
    "            pow(2, (n_series_exp-n_isl_exp))+1\n",
    "        )\n",
    "    ) + yes_no\n",
    "\n",
    "    t_repmat = np.array([f_mat]*int(pow(2, n_isl_exp)))\n",
    "        \n",
    "    t_reshaped = np.reshape(t_repmat, (1, int(pow(2, n_series_exp))), order='F')\n",
    "    \n",
    "    t_mult = t_reshaped*pow(2, n_isl_exp)\n",
    "    t_last = np.array(\n",
    "        range(\n",
    "            1, \n",
    "            pow(2, n_series_exp)+1\n",
    "        )\n",
    "    )\n",
    "    \n",
    "    \n",
    "    return np.sum([t_last, t_mult])-1"
   ]
  },
  {
   "cell_type": "code",
   "execution_count": 15,
   "metadata": {},
   "outputs": [
    {
     "data": {
      "text/plain": [
       "[array([], dtype=int64),\n",
       " array([], dtype=int64),\n",
       " array([    2,     3,    10, ..., 16275, 16282, 16283]),\n",
       " array([ 1024,  1025,  1026, ..., 32757, 32758, 32759]),\n",
       " array([ 1026,  1027,  1030, ..., 32747, 32750, 32751]),\n",
       " array([    4,     5,     6, ..., 15837, 15838, 15839]),\n",
       " array([    4,     5,     6, ..., 15773, 15774, 15775]),\n",
       " array([   17,    18,    19, ..., 32117, 32118, 32119]),\n",
       " array([  128,   129,   130, ..., 32509, 32510, 32511]),\n",
       " array([  260,   261,   262, ..., 32253, 32254, 32255]),\n",
       " array([    4,     5,     6, ..., 31741, 31742, 31743]),\n",
       " array([ 1024,  1025,  1026, ..., 30717, 30718, 30719]),\n",
       " array([ 1024,  1025,  1026, ..., 28669, 28670, 28671]),\n",
       " array([    4,     5,     6, ..., 24573, 24574, 24575]),\n",
       " array([    4,     5,     6, ..., 15773, 15774, 15775])]"
      ]
     },
     "execution_count": 15,
     "metadata": {},
     "output_type": "execute_result"
    }
   ],
   "source": [
    "up_trans_source = [\n",
    "    np.intersect1d(\n",
    "        np.nonzero(update_matrix[:, x])[0],\n",
    "        fcn_states_inds(0, n, x)[0, :]\n",
    "    ) \n",
    "    for x in range(n)\n",
    "]\n",
    "up_trans_source"
   ]
  },
  {
   "cell_type": "code",
   "execution_count": 16,
   "metadata": {},
   "outputs": [
    {
     "data": {
      "text/plain": [
       "[array([], dtype=int64),\n",
       " array([], dtype=int64),\n",
       " array([   36,    37,    38, ..., 32765, 32766, 32767]),\n",
       " array([    8,     9,    10, ..., 29693, 29694, 29695]),\n",
       " array([   16,    17,    18, ..., 32761, 32764, 32765]),\n",
       " array([  544,   545,   546, ..., 32765, 32766, 32767]),\n",
       " array([   96,    97,    98, ..., 32765, 32766, 32767]),\n",
       " array([  128,   129,   130, ..., 32765, 32766, 32767]),\n",
       " array([], dtype=int64),\n",
       " array([], dtype=int64),\n",
       " array([ 1024,  1025,  1026, ..., 32761, 32762, 32763]),\n",
       " array([ 2048,  2049,  2050, ..., 31741, 31742, 31743]),\n",
       " array([ 4096,  4097,  4098, ..., 29693, 29694, 29695]),\n",
       " array([ 8192,  8193,  8194, ..., 25593, 25594, 25595]),\n",
       " array([16416, 16417, 16418, ..., 32765, 32766, 32767])]"
      ]
     },
     "execution_count": 16,
     "metadata": {},
     "output_type": "execute_result"
    }
   ],
   "source": [
    "down_trans_source = [\n",
    "    np.intersect1d(\n",
    "        np.nonzero(np.logical_not(update_matrix[:, x]))[0],\n",
    "        fcn_states_inds(1, n, x)[0, :]\n",
    "    ) \n",
    "    for x in range(n)\n",
    "]\n",
    "down_trans_source"
   ]
  },
  {
   "cell_type": "code",
   "execution_count": 17,
   "metadata": {},
   "outputs": [
    {
     "data": {
      "text/plain": [
       "[array([], shape=(0, 3), dtype=int64),\n",
       " array([], shape=(0, 3), dtype=int64),\n",
       " array([[   32,     2,     2],\n",
       "        [   33,     2,     2],\n",
       "        [   34,     2,     2],\n",
       "        ...,\n",
       "        [32761,     2,     2],\n",
       "        [32762,     2,     2],\n",
       "        [32763,     2,     2]]),\n",
       " array([[    0,     3,     2],\n",
       "        [    1,     3,     2],\n",
       "        [    2,     3,     2],\n",
       "        ...,\n",
       "        [29685,     3,     2],\n",
       "        [29686,     3,     2],\n",
       "        [29687,     3,     2]]),\n",
       " array([[    0,     4,     2],\n",
       "        [    1,     4,     2],\n",
       "        [    2,     4,     2],\n",
       "        ...,\n",
       "        [32745,     4,     2],\n",
       "        [32748,     4,     2],\n",
       "        [32749,     4,     2]]),\n",
       " array([[  512,     5,     2],\n",
       "        [  513,     5,     2],\n",
       "        [  514,     5,     2],\n",
       "        ...,\n",
       "        [32733,     5,     2],\n",
       "        [32734,     5,     2],\n",
       "        [32735,     5,     2]]),\n",
       " array([[   32,     6,     2],\n",
       "        [   33,     6,     2],\n",
       "        [   34,     6,     2],\n",
       "        ...,\n",
       "        [32701,     6,     2],\n",
       "        [32702,     6,     2],\n",
       "        [32703,     6,     2]]),\n",
       " array([[    0,     7,     2],\n",
       "        [    1,     7,     2],\n",
       "        [    2,     7,     2],\n",
       "        ...,\n",
       "        [32637,     7,     2],\n",
       "        [32638,     7,     2],\n",
       "        [32639,     7,     2]]),\n",
       " array([], shape=(0, 3), dtype=int64),\n",
       " array([], shape=(0, 3), dtype=int64),\n",
       " array([[    0,    10,     2],\n",
       "        [    1,    10,     2],\n",
       "        [    2,    10,     2],\n",
       "        ...,\n",
       "        [31737,    10,     2],\n",
       "        [31738,    10,     2],\n",
       "        [31739,    10,     2]]),\n",
       " array([[    0,    11,     2],\n",
       "        [    1,    11,     2],\n",
       "        [    2,    11,     2],\n",
       "        ...,\n",
       "        [29693,    11,     2],\n",
       "        [29694,    11,     2],\n",
       "        [29695,    11,     2]]),\n",
       " array([[    0,    12,     2],\n",
       "        [    1,    12,     2],\n",
       "        [    2,    12,     2],\n",
       "        ...,\n",
       "        [25597,    12,     2],\n",
       "        [25598,    12,     2],\n",
       "        [25599,    12,     2]]),\n",
       " array([[    0,    13,     2],\n",
       "        [    1,    13,     2],\n",
       "        [    2,    13,     2],\n",
       "        ...,\n",
       "        [17401,    13,     2],\n",
       "        [17402,    13,     2],\n",
       "        [17403,    13,     2]]),\n",
       " array([[   32,    14,     2],\n",
       "        [   33,    14,     2],\n",
       "        [   34,    14,     2],\n",
       "        ...,\n",
       "        [16381,    14,     2],\n",
       "        [16382,    14,     2],\n",
       "        [16383,    14,     2]])]"
      ]
     },
     "execution_count": 17,
     "metadata": {},
     "output_type": "execute_result"
    }
   ],
   "source": [
    "# Question to Mihaly : Should it be [x 2] or [x 1] ? \n",
    "# Is it some kind of label, or a indice ?\n",
    "\n",
    "down_trans_target = [\n",
    "    np.concatenate(\n",
    "        (\n",
    "            np.array([down_trans_source[x]-pow(2, x)]).transpose(), \n",
    "            np.repeat(np.array([[x,2]]), len(down_trans_source[x]), axis=0)\n",
    "        ), axis=1\n",
    "    )\n",
    "    for x in range(len(down_trans_source))\n",
    "]\n",
    "down_trans_target"
   ]
  },
  {
   "cell_type": "code",
   "execution_count": 18,
   "metadata": {},
   "outputs": [
    {
     "data": {
      "text/plain": [
       "[array([], shape=(0, 3), dtype=int64),\n",
       " array([], shape=(0, 3), dtype=int64),\n",
       " array([[    6,     2,     1],\n",
       "        [    7,     2,     1],\n",
       "        [   14,     2,     1],\n",
       "        ...,\n",
       "        [16279,     2,     1],\n",
       "        [16286,     2,     1],\n",
       "        [16287,     2,     1]]),\n",
       " array([[ 1032,     3,     1],\n",
       "        [ 1033,     3,     1],\n",
       "        [ 1034,     3,     1],\n",
       "        ...,\n",
       "        [32765,     3,     1],\n",
       "        [32766,     3,     1],\n",
       "        [32767,     3,     1]]),\n",
       " array([[ 1042,     4,     1],\n",
       "        [ 1043,     4,     1],\n",
       "        [ 1046,     4,     1],\n",
       "        ...,\n",
       "        [32763,     4,     1],\n",
       "        [32766,     4,     1],\n",
       "        [32767,     4,     1]]),\n",
       " array([[   36,     5,     1],\n",
       "        [   37,     5,     1],\n",
       "        [   38,     5,     1],\n",
       "        ...,\n",
       "        [15869,     5,     1],\n",
       "        [15870,     5,     1],\n",
       "        [15871,     5,     1]]),\n",
       " array([[   68,     6,     1],\n",
       "        [   69,     6,     1],\n",
       "        [   70,     6,     1],\n",
       "        ...,\n",
       "        [15837,     6,     1],\n",
       "        [15838,     6,     1],\n",
       "        [15839,     6,     1]]),\n",
       " array([[  145,     7,     1],\n",
       "        [  146,     7,     1],\n",
       "        [  147,     7,     1],\n",
       "        ...,\n",
       "        [32245,     7,     1],\n",
       "        [32246,     7,     1],\n",
       "        [32247,     7,     1]]),\n",
       " array([[  384,     8,     1],\n",
       "        [  385,     8,     1],\n",
       "        [  386,     8,     1],\n",
       "        ...,\n",
       "        [32765,     8,     1],\n",
       "        [32766,     8,     1],\n",
       "        [32767,     8,     1]]),\n",
       " array([[  772,     9,     1],\n",
       "        [  773,     9,     1],\n",
       "        [  774,     9,     1],\n",
       "        ...,\n",
       "        [32765,     9,     1],\n",
       "        [32766,     9,     1],\n",
       "        [32767,     9,     1]]),\n",
       " array([[ 1028,    10,     1],\n",
       "        [ 1029,    10,     1],\n",
       "        [ 1030,    10,     1],\n",
       "        ...,\n",
       "        [32765,    10,     1],\n",
       "        [32766,    10,     1],\n",
       "        [32767,    10,     1]]),\n",
       " array([[ 3072,    11,     1],\n",
       "        [ 3073,    11,     1],\n",
       "        [ 3074,    11,     1],\n",
       "        ...,\n",
       "        [32765,    11,     1],\n",
       "        [32766,    11,     1],\n",
       "        [32767,    11,     1]]),\n",
       " array([[ 5120,    12,     1],\n",
       "        [ 5121,    12,     1],\n",
       "        [ 5122,    12,     1],\n",
       "        ...,\n",
       "        [32765,    12,     1],\n",
       "        [32766,    12,     1],\n",
       "        [32767,    12,     1]]),\n",
       " array([[ 8196,    13,     1],\n",
       "        [ 8197,    13,     1],\n",
       "        [ 8198,    13,     1],\n",
       "        ...,\n",
       "        [32765,    13,     1],\n",
       "        [32766,    13,     1],\n",
       "        [32767,    13,     1]]),\n",
       " array([[16388,    14,     1],\n",
       "        [16389,    14,     1],\n",
       "        [16390,    14,     1],\n",
       "        ...,\n",
       "        [32157,    14,     1],\n",
       "        [32158,    14,     1],\n",
       "        [32159,    14,     1]])]"
      ]
     },
     "execution_count": 18,
     "metadata": {},
     "output_type": "execute_result"
    }
   ],
   "source": [
    "# Same here : Question to Mihaly : Should it be [x 1] or [x 0] ? \n",
    "# Is it some kind of label, or a indice ?\n",
    "\n",
    "up_trans_target = [\n",
    "    np.concatenate(\n",
    "        (\n",
    "            np.array([up_trans_source[x]+pow(2, x)]).transpose(), \n",
    "            np.repeat(np.array([[x,1]]), len(up_trans_source[x]), axis=0)\n",
    "        ), axis=1\n",
    "    )\n",
    "    for x in range(len(up_trans_source))\n",
    "]\n",
    "up_trans_target"
   ]
  },
  {
   "cell_type": "markdown",
   "metadata": {},
   "source": [
    "##### Assembling them in the STG table"
   ]
  },
  {
   "cell_type": "code",
   "execution_count": 20,
   "metadata": {},
   "outputs": [],
   "source": [
    "source = np.concatenate([\n",
    "    np.concatenate(down_trans_source, axis=0),\n",
    "    np.concatenate(up_trans_source, axis=0)\n",
    "])\n",
    "\n",
    "target = np.concatenate([\n",
    "    np.concatenate(down_trans_target, axis=0),\n",
    "    np.concatenate(up_trans_target, axis=0)\n",
    "])"
   ]
  },
  {
   "cell_type": "code",
   "execution_count": 28,
   "metadata": {},
   "outputs": [],
   "source": [
    "state_transitions_inds = np.concatenate((np.array([source]).transpose(), target), axis=1)"
   ]
  },
  {
   "cell_type": "code",
   "execution_count": 29,
   "metadata": {},
   "outputs": [
    {
     "name": "stdout",
     "output_type": "stream",
     "text": [
      "6029312 bytes\n"
     ]
    }
   ],
   "source": [
    "print(\"%d bytes\" % (state_transitions_inds.shape[0] * state_transitions_inds.shape[1] * state_transitions_inds.itemsize))"
   ]
  },
  {
   "cell_type": "code",
   "execution_count": 27,
   "metadata": {},
   "outputs": [
    {
     "data": {
      "text/plain": [
       "(188416, 4)"
      ]
     },
     "execution_count": 27,
     "metadata": {},
     "output_type": "execute_result"
    }
   ],
   "source": [
    "state_transitions_inds"
   ]
  },
  {
   "cell_type": "code",
   "execution_count": null,
   "metadata": {},
   "outputs": [],
   "source": []
  }
 ],
 "metadata": {
  "kernelspec": {
   "display_name": "Python 3",
   "language": "python",
   "name": "python3"
  },
  "language_info": {
   "codemirror_mode": {
    "name": "ipython",
    "version": 3
   },
   "file_extension": ".py",
   "mimetype": "text/x-python",
   "name": "python",
   "nbconvert_exporter": "python",
   "pygments_lexer": "ipython3",
   "version": "3.6.8"
  }
 },
 "nbformat": 4,
 "nbformat_minor": 4
}
