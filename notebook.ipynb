{
 "cells": [
  {
   "cell_type": "code",
   "execution_count": 1,
   "metadata": {},
   "outputs": [],
   "source": [
    "%load_ext autoreload\n",
    "%autoreload 2"
   ]
  },
  {
   "cell_type": "code",
   "execution_count": 2,
   "metadata": {},
   "outputs": [],
   "source": [
    "import biolqm\n",
    "import numpy as np\n",
    "import boolean\n",
    "import colomoto.minibn as minibn"
   ]
  },
  {
   "cell_type": "markdown",
   "metadata": {},
   "source": [
    "### Building STG table"
   ]
  },
  {
   "cell_type": "markdown",
   "metadata": {},
   "source": [
    "##### First, loading the model as a minibn"
   ]
  },
  {
   "cell_type": "code",
   "execution_count": 3,
   "metadata": {},
   "outputs": [],
   "source": [
    "bnet_model = biolqm.load(\"model_files/krasmodel15vars.bnet\", \"bnet\")"
   ]
  },
  {
   "cell_type": "code",
   "execution_count": 4,
   "metadata": {},
   "outputs": [],
   "source": [
    "model = biolqm.to_minibn(bnet_model)"
   ]
  },
  {
   "cell_type": "code",
   "execution_count": 240,
   "metadata": {},
   "outputs": [
    {
     "data": {
      "text/plain": [
       "['cc',\n",
       " 'KRAS',\n",
       " 'DSB',\n",
       " 'CHEK1',\n",
       " 'MAPKAPK2',\n",
       " 'FAHRR',\n",
       " 'HRR2',\n",
       " 'CDC25B',\n",
       " 'g2m_trans',\n",
       " 'cell_death',\n",
       " 'ATM',\n",
       " 'ATR',\n",
       " 'FAcore',\n",
       " 'FANCD2I',\n",
       " 'NHEJ']"
      ]
     },
     "execution_count": 240,
     "metadata": {},
     "output_type": "execute_result"
    }
   ],
   "source": [
    "# The list order of the model's keys is different from Mihaly list's order. So we fix it, to be the same as Mihaly\n",
    "nodes = [\n",
    "    \"cc\", \"KRAS\", \"DSB\", \"CHEK1\", \"MAPKAPK2\", \"FAHRR\", \"HRR2\", \"CDC25B\", \"g2m_trans\", \"cell_death\", \n",
    "    \"ATM\", \"ATR\", \"FAcore\", \"FANCD2I\", \"NHEJ\"\n",
    "]\n",
    "nodes"
   ]
  },
  {
   "cell_type": "code",
   "execution_count": 241,
   "metadata": {},
   "outputs": [
    {
     "data": {
      "text/plain": [
       "15"
      ]
     },
     "execution_count": 241,
     "metadata": {},
     "output_type": "execute_result"
    }
   ],
   "source": [
    "n=len(nodes)\n",
    "n"
   ]
  },
  {
   "cell_type": "markdown",
   "metadata": {},
   "source": [
    "##### Then, building the list of binary states"
   ]
  },
  {
   "cell_type": "code",
   "execution_count": 242,
   "metadata": {},
   "outputs": [
    {
     "data": {
      "text/plain": [
       "array([[    0,     1,     2, ..., 32765, 32766, 32767]])"
      ]
     },
     "execution_count": 242,
     "metadata": {},
     "output_type": "execute_result"
    }
   ],
   "source": [
    "x = np.array([range(pow(2, n))])\n",
    "x"
   ]
  },
  {
   "cell_type": "code",
   "execution_count": 243,
   "metadata": {},
   "outputs": [
    {
     "data": {
      "text/plain": [
       "array([[1.00000000e+00, 5.00000000e-01, 2.50000000e-01, 1.25000000e-01,\n",
       "        6.25000000e-02, 3.12500000e-02, 1.56250000e-02, 7.81250000e-03,\n",
       "        3.90625000e-03, 1.95312500e-03, 9.76562500e-04, 4.88281250e-04,\n",
       "        2.44140625e-04, 1.22070312e-04, 6.10351562e-05]])"
      ]
     },
     "execution_count": 243,
     "metadata": {},
     "output_type": "execute_result"
    }
   ],
   "source": [
    "y = np.array([np.power([2.0]*n, np.array(list(range(0, -n, -1))))])\n",
    "y"
   ]
  },
  {
   "cell_type": "code",
   "execution_count": 244,
   "metadata": {},
   "outputs": [],
   "source": [
    "list_binary_states = np.remainder(np.floor(np.multiply(x.transpose(), y)), 2).astype(bool)"
   ]
  },
  {
   "cell_type": "code",
   "execution_count": 245,
   "metadata": {},
   "outputs": [
    {
     "data": {
      "text/plain": [
       "(32768, 15)"
      ]
     },
     "execution_count": 245,
     "metadata": {},
     "output_type": "execute_result"
    }
   ],
   "source": [
    "np.shape(list_binary_states)"
   ]
  },
  {
   "cell_type": "markdown",
   "metadata": {},
   "source": [
    "##### Then, building the update matrix"
   ]
  },
  {
   "cell_type": "code",
   "execution_count": 246,
   "metadata": {},
   "outputs": [],
   "source": [
    "def gen_array(formula, list_binary_states, nodes):\n",
    "\n",
    "    if isinstance(formula, boolean.boolean.Symbol):\n",
    "        return list_binary_states[:, nodes.index(str(formula))]\n",
    "    \n",
    "    elif isinstance(formula, boolean.boolean.NOT) or isinstance(formula, minibn.NOT):\n",
    "        return np.logical_not(\n",
    "            gen_array(formula.args[0], list_binary_states, nodes)\n",
    "        )\n",
    "    \n",
    "    elif isinstance(formula, boolean.boolean.OR):\n",
    "        ret = gen_array(formula.args[0], list_binary_states, nodes)\n",
    "        for i in range(1, len(formula.args)):\n",
    "            ret = np.logical_or(ret, \n",
    "                gen_array(formula.args[i], list_binary_states, nodes)\n",
    "            )\n",
    "        return ret\n",
    "    \n",
    "    elif isinstance(formula, boolean.boolean.AND):\n",
    "        ret = gen_array(formula.args[0], list_binary_states, nodes)\n",
    "        for i in range(1, len(formula.args)):\n",
    "            ret = np.logical_and(ret, \n",
    "                gen_array(formula.args[i], list_binary_states, nodes)\n",
    "            )\n",
    "        return ret\n",
    "    \n",
    "    else:\n",
    "        print(\"Unknown boolean operator : %s\" % type(formula))"
   ]
  },
  {
   "cell_type": "code",
   "execution_count": 247,
   "metadata": {},
   "outputs": [],
   "source": [
    "update_matrix = np.array(\n",
    "    [\n",
    "        gen_array(model[node], list_binary_states, nodes) \n",
    "        for node in nodes\n",
    "    ]\n",
    ").transpose()"
   ]
  },
  {
   "cell_type": "code",
   "execution_count": 248,
   "metadata": {},
   "outputs": [
    {
     "data": {
      "text/plain": [
       "(32768, 15)"
      ]
     },
     "execution_count": 248,
     "metadata": {},
     "output_type": "execute_result"
    }
   ],
   "source": [
    "np.shape(update_matrix)"
   ]
  },
  {
   "cell_type": "markdown",
   "metadata": {},
   "source": [
    "It should be using scipy's sparse matricies, but for now it's ok"
   ]
  },
  {
   "cell_type": "markdown",
   "metadata": {},
   "source": [
    "##### Build up/down trans source/target"
   ]
  },
  {
   "cell_type": "code",
   "execution_count": 312,
   "metadata": {},
   "outputs": [],
   "source": [
    "def fcn_states_inds(yes_no, n_series_exp, n_isl_exp):\n",
    "    # Here we have the problem of array indices from matlab (1...n) that are different \n",
    "    # Shoud we just substract one at the end ? Yes we should, but not only\n",
    "    #\n",
    "    # n_isl_exp is the indice of the up matrix column, so we should increase it by one\n",
    "    # (because our input will be already decrease by one)\n",
    "    # yes_no should be some boolean value, hopefully. So we don't touch\n",
    "    # n_series_exp is the number of nodes, so it should already be ok\n",
    "    \n",
    "    n_series_exp = n_series_exp - 1\n",
    "#     n_isl_exp = n_isl_exp - 1\n",
    "    yes_no = yes_no - 1\n",
    "    \n",
    "    f_mat = np.array(\n",
    "        range(\n",
    "            1, \n",
    "            pow(2, (n_series_exp-n_isl_exp))+1\n",
    "        )\n",
    "    ) + yes_no\n",
    "\n",
    "    t_repmat = np.array([f_mat]*int(pow(2, n_isl_exp)))\n",
    "        \n",
    "    t_reshaped = np.reshape(t_repmat, (1, int(pow(2, n_series_exp))), order='F')\n",
    "    \n",
    "    t_mult = t_reshaped*pow(2, n_isl_exp)\n",
    "    t_last = np.array(\n",
    "        range(\n",
    "            1, \n",
    "            pow(2, n_series_exp)+1\n",
    "        )\n",
    "    )\n",
    "    \n",
    "    \n",
    "    return np.sum([t_last, t_mult])-1"
   ]
  },
  {
   "cell_type": "code",
   "execution_count": 318,
   "metadata": {},
   "outputs": [
    {
     "data": {
      "text/plain": [
       "[array([], dtype=int64),\n",
       " array([], dtype=int64),\n",
       " array([    2,     3,    10, ..., 16275, 16282, 16283]),\n",
       " array([ 1024,  1025,  1026, ..., 32757, 32758, 32759]),\n",
       " array([ 1026,  1027,  1030, ..., 32747, 32750, 32751]),\n",
       " array([    4,     5,     6, ..., 15837, 15838, 15839]),\n",
       " array([    4,     5,     6, ..., 15773, 15774, 15775]),\n",
       " array([   17,    18,    19, ..., 32117, 32118, 32119]),\n",
       " array([  128,   129,   130, ..., 32509, 32510, 32511]),\n",
       " array([  260,   261,   262, ..., 32253, 32254, 32255]),\n",
       " array([    4,     5,     6, ..., 31741, 31742, 31743]),\n",
       " array([ 1024,  1025,  1026, ..., 30717, 30718, 30719]),\n",
       " array([ 1024,  1025,  1026, ..., 28669, 28670, 28671]),\n",
       " array([    4,     5,     6, ..., 24573, 24574, 24575]),\n",
       " array([    4,     5,     6, ..., 15773, 15774, 15775])]"
      ]
     },
     "execution_count": 318,
     "metadata": {},
     "output_type": "execute_result"
    }
   ],
   "source": [
    "up_trans_source = [\n",
    "    np.intersect1d(\n",
    "        np.nonzero(update_matrix[:, x])[0],\n",
    "        fcn_states_inds(0, n, x)[0, :]\n",
    "    ) \n",
    "    for x in range(n)\n",
    "]\n",
    "up_trans_source"
   ]
  },
  {
   "cell_type": "code",
   "execution_count": 319,
   "metadata": {},
   "outputs": [
    {
     "data": {
      "text/plain": [
       "[array([], dtype=int64),\n",
       " array([], dtype=int64),\n",
       " array([   36,    37,    38, ..., 32765, 32766, 32767]),\n",
       " array([    8,     9,    10, ..., 29693, 29694, 29695]),\n",
       " array([   16,    17,    18, ..., 32761, 32764, 32765]),\n",
       " array([  544,   545,   546, ..., 32765, 32766, 32767]),\n",
       " array([   96,    97,    98, ..., 32765, 32766, 32767]),\n",
       " array([  128,   129,   130, ..., 32765, 32766, 32767]),\n",
       " array([], dtype=int64),\n",
       " array([], dtype=int64),\n",
       " array([ 1024,  1025,  1026, ..., 32761, 32762, 32763]),\n",
       " array([ 2048,  2049,  2050, ..., 31741, 31742, 31743]),\n",
       " array([ 4096,  4097,  4098, ..., 29693, 29694, 29695]),\n",
       " array([ 8192,  8193,  8194, ..., 25593, 25594, 25595]),\n",
       " array([16416, 16417, 16418, ..., 32765, 32766, 32767])]"
      ]
     },
     "execution_count": 319,
     "metadata": {},
     "output_type": "execute_result"
    }
   ],
   "source": [
    "down_trans_source = [\n",
    "    np.intersect1d(\n",
    "        np.nonzero(np.logical_not(update_matrix[:, x]))[0],\n",
    "        fcn_states_inds(1, n, x)[0, :]\n",
    "    ) \n",
    "    for x in range(n)\n",
    "]\n",
    "down_trans_source"
   ]
  },
  {
   "cell_type": "code",
   "execution_count": null,
   "metadata": {},
   "outputs": [],
   "source": []
  },
  {
   "cell_type": "code",
   "execution_count": null,
   "metadata": {},
   "outputs": [],
   "source": []
  },
  {
   "cell_type": "code",
   "execution_count": null,
   "metadata": {},
   "outputs": [],
   "source": []
  },
  {
   "cell_type": "code",
   "execution_count": null,
   "metadata": {},
   "outputs": [],
   "source": []
  },
  {
   "cell_type": "code",
   "execution_count": 287,
   "metadata": {},
   "outputs": [
    {
     "data": {
      "text/plain": [
       "(array([    1,     3,     5, ..., 32763, 32765, 32767]),)"
      ]
     },
     "execution_count": 287,
     "metadata": {},
     "output_type": "execute_result"
    }
   ],
   "source": [
    "np.nonzero(update_matrix[:, 0])"
   ]
  },
  {
   "cell_type": "code",
   "execution_count": 288,
   "metadata": {},
   "outputs": [
    {
     "ename": "ValueError",
     "evalue": "cannot reshape array of size 0 into shape (1,16384)",
     "output_type": "error",
     "traceback": [
      "\u001b[0;31m---------------------------------------------------------------------------\u001b[0m",
      "\u001b[0;31mValueError\u001b[0m                                Traceback (most recent call last)",
      "\u001b[0;32m<ipython-input-288-329f6f404f73>\u001b[0m in \u001b[0;36m<module>\u001b[0;34m\u001b[0m\n\u001b[0;32m----> 1\u001b[0;31m \u001b[0mfcn_states_inds\u001b[0m\u001b[0;34m(\u001b[0m\u001b[0;36m0\u001b[0m\u001b[0;34m,\u001b[0m \u001b[0mn\u001b[0m\u001b[0;34m,\u001b[0m \u001b[0;36m0\u001b[0m\u001b[0;34m)\u001b[0m\u001b[0;34m\u001b[0m\u001b[0;34m\u001b[0m\u001b[0m\n\u001b[0m",
      "\u001b[0;32m<ipython-input-284-f5062a8543df>\u001b[0m in \u001b[0;36mfcn_states_inds\u001b[0;34m(yes_no, n_series_exp, n_isl_exp)\u001b[0m\n\u001b[1;32m     20\u001b[0m     \u001b[0mt_repmat\u001b[0m \u001b[0;34m=\u001b[0m \u001b[0mnp\u001b[0m\u001b[0;34m.\u001b[0m\u001b[0marray\u001b[0m\u001b[0;34m(\u001b[0m\u001b[0;34m[\u001b[0m\u001b[0mf_mat\u001b[0m\u001b[0;34m]\u001b[0m\u001b[0;34m*\u001b[0m\u001b[0mint\u001b[0m\u001b[0;34m(\u001b[0m\u001b[0mpow\u001b[0m\u001b[0;34m(\u001b[0m\u001b[0;36m2\u001b[0m\u001b[0;34m,\u001b[0m \u001b[0mn_isl_exp\u001b[0m\u001b[0;34m)\u001b[0m\u001b[0;34m)\u001b[0m\u001b[0;34m)\u001b[0m\u001b[0;34m\u001b[0m\u001b[0;34m\u001b[0m\u001b[0m\n\u001b[1;32m     21\u001b[0m \u001b[0;34m\u001b[0m\u001b[0m\n\u001b[0;32m---> 22\u001b[0;31m     \u001b[0mt_reshaped\u001b[0m \u001b[0;34m=\u001b[0m \u001b[0mnp\u001b[0m\u001b[0;34m.\u001b[0m\u001b[0mreshape\u001b[0m\u001b[0;34m(\u001b[0m\u001b[0mt_repmat\u001b[0m\u001b[0;34m,\u001b[0m \u001b[0;34m(\u001b[0m\u001b[0;36m1\u001b[0m\u001b[0;34m,\u001b[0m \u001b[0mint\u001b[0m\u001b[0;34m(\u001b[0m\u001b[0mpow\u001b[0m\u001b[0;34m(\u001b[0m\u001b[0;36m2\u001b[0m\u001b[0;34m,\u001b[0m \u001b[0mn_series_exp\u001b[0m\u001b[0;34m)\u001b[0m\u001b[0;34m)\u001b[0m\u001b[0;34m)\u001b[0m\u001b[0;34m,\u001b[0m \u001b[0morder\u001b[0m\u001b[0;34m=\u001b[0m\u001b[0;34m'F'\u001b[0m\u001b[0;34m)\u001b[0m\u001b[0;34m\u001b[0m\u001b[0;34m\u001b[0m\u001b[0m\n\u001b[0m\u001b[1;32m     23\u001b[0m \u001b[0;34m\u001b[0m\u001b[0m\n\u001b[1;32m     24\u001b[0m     \u001b[0mt_mult\u001b[0m \u001b[0;34m=\u001b[0m \u001b[0mt_reshaped\u001b[0m\u001b[0;34m*\u001b[0m\u001b[0mpow\u001b[0m\u001b[0;34m(\u001b[0m\u001b[0;36m2\u001b[0m\u001b[0;34m,\u001b[0m \u001b[0mn_isl_exp\u001b[0m\u001b[0;34m)\u001b[0m\u001b[0;34m\u001b[0m\u001b[0;34m\u001b[0m\u001b[0m\n",
      "\u001b[0;32m<__array_function__ internals>\u001b[0m in \u001b[0;36mreshape\u001b[0;34m(*args, **kwargs)\u001b[0m\n",
      "\u001b[0;32m/bioinfo/users/vnoel/pyExaStoLog/venv/lib/python3.6/site-packages/numpy/core/fromnumeric.py\u001b[0m in \u001b[0;36mreshape\u001b[0;34m(a, newshape, order)\u001b[0m\n\u001b[1;32m    299\u001b[0m            [5, 6]])\n\u001b[1;32m    300\u001b[0m     \"\"\"\n\u001b[0;32m--> 301\u001b[0;31m     \u001b[0;32mreturn\u001b[0m \u001b[0m_wrapfunc\u001b[0m\u001b[0;34m(\u001b[0m\u001b[0ma\u001b[0m\u001b[0;34m,\u001b[0m \u001b[0;34m'reshape'\u001b[0m\u001b[0;34m,\u001b[0m \u001b[0mnewshape\u001b[0m\u001b[0;34m,\u001b[0m \u001b[0morder\u001b[0m\u001b[0;34m=\u001b[0m\u001b[0morder\u001b[0m\u001b[0;34m)\u001b[0m\u001b[0;34m\u001b[0m\u001b[0;34m\u001b[0m\u001b[0m\n\u001b[0m\u001b[1;32m    302\u001b[0m \u001b[0;34m\u001b[0m\u001b[0m\n\u001b[1;32m    303\u001b[0m \u001b[0;34m\u001b[0m\u001b[0m\n",
      "\u001b[0;32m/bioinfo/users/vnoel/pyExaStoLog/venv/lib/python3.6/site-packages/numpy/core/fromnumeric.py\u001b[0m in \u001b[0;36m_wrapfunc\u001b[0;34m(obj, method, *args, **kwds)\u001b[0m\n\u001b[1;32m     59\u001b[0m \u001b[0;34m\u001b[0m\u001b[0m\n\u001b[1;32m     60\u001b[0m     \u001b[0;32mtry\u001b[0m\u001b[0;34m:\u001b[0m\u001b[0;34m\u001b[0m\u001b[0;34m\u001b[0m\u001b[0m\n\u001b[0;32m---> 61\u001b[0;31m         \u001b[0;32mreturn\u001b[0m \u001b[0mbound\u001b[0m\u001b[0;34m(\u001b[0m\u001b[0;34m*\u001b[0m\u001b[0margs\u001b[0m\u001b[0;34m,\u001b[0m \u001b[0;34m**\u001b[0m\u001b[0mkwds\u001b[0m\u001b[0;34m)\u001b[0m\u001b[0;34m\u001b[0m\u001b[0;34m\u001b[0m\u001b[0m\n\u001b[0m\u001b[1;32m     62\u001b[0m     \u001b[0;32mexcept\u001b[0m \u001b[0mTypeError\u001b[0m\u001b[0;34m:\u001b[0m\u001b[0;34m\u001b[0m\u001b[0;34m\u001b[0m\u001b[0m\n\u001b[1;32m     63\u001b[0m         \u001b[0;31m# A TypeError occurs if the object does have such a method in its\u001b[0m\u001b[0;34m\u001b[0m\u001b[0;34m\u001b[0m\u001b[0;34m\u001b[0m\u001b[0m\n",
      "\u001b[0;31mValueError\u001b[0m: cannot reshape array of size 0 into shape (1,16384)"
     ]
    }
   ],
   "source": [
    "fcn_states_inds(0, n, 0)"
   ]
  },
  {
   "cell_type": "code",
   "execution_count": null,
   "metadata": {},
   "outputs": [],
   "source": []
  },
  {
   "cell_type": "code",
   "execution_count": 257,
   "metadata": {},
   "outputs": [
    {
     "ename": "IndexError",
     "evalue": "index 15 is out of bounds for axis 1 with size 15",
     "output_type": "error",
     "traceback": [
      "\u001b[0;31m---------------------------------------------------------------------------\u001b[0m",
      "\u001b[0;31mIndexError\u001b[0m                                Traceback (most recent call last)",
      "\u001b[0;32m<ipython-input-257-144bb7fe6b42>\u001b[0m in \u001b[0;36m<module>\u001b[0;34m\u001b[0m\n\u001b[1;32m      1\u001b[0m \u001b[0;32mfor\u001b[0m \u001b[0mi\u001b[0m \u001b[0;32min\u001b[0m \u001b[0mrange\u001b[0m\u001b[0;34m(\u001b[0m\u001b[0mn\u001b[0m\u001b[0;34m)\u001b[0m\u001b[0;34m:\u001b[0m\u001b[0;34m\u001b[0m\u001b[0;34m\u001b[0m\u001b[0m\n\u001b[0;32m----> 2\u001b[0;31m     \u001b[0mprint\u001b[0m\u001b[0;34m(\u001b[0m\u001b[0mnp\u001b[0m\u001b[0;34m.\u001b[0m\u001b[0mnonzero\u001b[0m\u001b[0;34m(\u001b[0m\u001b[0mupdate_matrix\u001b[0m\u001b[0;34m[\u001b[0m\u001b[0;34m:\u001b[0m\u001b[0;34m,\u001b[0m \u001b[0mx\u001b[0m\u001b[0;34m]\u001b[0m\u001b[0;34m)\u001b[0m\u001b[0;34m)\u001b[0m\u001b[0;34m\u001b[0m\u001b[0;34m\u001b[0m\u001b[0m\n\u001b[0m",
      "\u001b[0;31mIndexError\u001b[0m: index 15 is out of bounds for axis 1 with size 15"
     ]
    }
   ],
   "source": [
    "for i in range(n):\n",
    "    print(np.nonzero(update_matrix[:, x]))"
   ]
  },
  {
   "cell_type": "code",
   "execution_count": 36,
   "metadata": {},
   "outputs": [
    {
     "data": {
      "text/plain": [
       "array([False, False, False, False, False, False, False, False, False,\n",
       "       False, False, False, False, False, False])"
      ]
     },
     "execution_count": 36,
     "metadata": {},
     "output_type": "execute_result"
    }
   ],
   "source": [
    "update_matrix[:, 0]"
   ]
  },
  {
   "cell_type": "code",
   "execution_count": 37,
   "metadata": {},
   "outputs": [
    {
     "data": {
      "text/plain": [
       "(15, 32768)"
      ]
     },
     "execution_count": 37,
     "metadata": {},
     "output_type": "execute_result"
    }
   ],
   "source": [
    "np.shape(update_matrix)"
   ]
  },
  {
   "cell_type": "code",
   "execution_count": 56,
   "metadata": {},
   "outputs": [
    {
     "data": {
      "text/plain": [
       "(14,)"
      ]
     },
     "execution_count": 56,
     "metadata": {},
     "output_type": "execute_result"
    }
   ],
   "source": [
    "np.shape(res)"
   ]
  },
  {
   "cell_type": "code",
   "execution_count": 210,
   "metadata": {},
   "outputs": [
    {
     "data": {
      "text/plain": [
       "(array([    1,     3,     5, ..., 32763, 32765, 32767]),)"
      ]
     },
     "execution_count": 210,
     "metadata": {},
     "output_type": "execute_result"
    }
   ],
   "source": []
  },
  {
   "cell_type": "code",
   "execution_count": null,
   "metadata": {},
   "outputs": [],
   "source": []
  }
 ],
 "metadata": {
  "kernelspec": {
   "display_name": "Python 3",
   "language": "python",
   "name": "python3"
  },
  "language_info": {
   "codemirror_mode": {
    "name": "ipython",
    "version": 3
   },
   "file_extension": ".py",
   "mimetype": "text/x-python",
   "name": "python",
   "nbconvert_exporter": "python",
   "pygments_lexer": "ipython3",
   "version": "3.6.8"
  }
 },
 "nbformat": 4,
 "nbformat_minor": 4
}
