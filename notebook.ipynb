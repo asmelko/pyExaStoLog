{
 "cells": [
  {
   "cell_type": "code",
   "execution_count": 1,
   "metadata": {},
   "outputs": [],
   "source": [
    "%load_ext autoreload\n",
    "%autoreload 2"
   ]
  },
  {
   "cell_type": "code",
   "execution_count": 2,
   "metadata": {},
   "outputs": [],
   "source": [
    "import biolqm\n",
    "import numpy as np\n",
    "import boolean\n",
    "import colomoto.minibn as minibn\n",
    "import scipy as sp"
   ]
  },
  {
   "cell_type": "markdown",
   "metadata": {},
   "source": [
    "### Building STG table"
   ]
  },
  {
   "cell_type": "markdown",
   "metadata": {},
   "source": [
    "##### First, loading the model as a minibn"
   ]
  },
  {
   "cell_type": "code",
   "execution_count": 3,
   "metadata": {},
   "outputs": [],
   "source": [
    "bnet_model = biolqm.load(\"model_files/krasmodel15vars.bnet\", \"bnet\")"
   ]
  },
  {
   "cell_type": "code",
   "execution_count": 4,
   "metadata": {},
   "outputs": [],
   "source": [
    "model = biolqm.to_minibn(bnet_model)"
   ]
  },
  {
   "cell_type": "code",
   "execution_count": 5,
   "metadata": {},
   "outputs": [
    {
     "data": {
      "text/plain": [
       "['cc',\n",
       " 'KRAS',\n",
       " 'DSB',\n",
       " 'CHEK1',\n",
       " 'MAPKAPK2',\n",
       " 'FAHRR',\n",
       " 'HRR2',\n",
       " 'CDC25B',\n",
       " 'g2m_trans',\n",
       " 'cell_death',\n",
       " 'ATM',\n",
       " 'ATR',\n",
       " 'FAcore',\n",
       " 'FANCD2I',\n",
       " 'NHEJ']"
      ]
     },
     "execution_count": 5,
     "metadata": {},
     "output_type": "execute_result"
    }
   ],
   "source": [
    "# The list order of the model's keys is different from Mihaly list's order. So we fix it, to be the same as Mihaly\n",
    "nodes = [\n",
    "    \"cc\", \"KRAS\", \"DSB\", \"CHEK1\", \"MAPKAPK2\", \"FAHRR\", \"HRR2\", \"CDC25B\", \"g2m_trans\", \"cell_death\", \n",
    "    \"ATM\", \"ATR\", \"FAcore\", \"FANCD2I\", \"NHEJ\"\n",
    "]\n",
    "nodes"
   ]
  },
  {
   "cell_type": "code",
   "execution_count": 6,
   "metadata": {},
   "outputs": [
    {
     "data": {
      "text/plain": [
       "15"
      ]
     },
     "execution_count": 6,
     "metadata": {},
     "output_type": "execute_result"
    }
   ],
   "source": [
    "n=len(nodes)\n",
    "n"
   ]
  },
  {
   "cell_type": "markdown",
   "metadata": {},
   "source": [
    "##### Then, building the list of binary states"
   ]
  },
  {
   "cell_type": "code",
   "execution_count": 7,
   "metadata": {},
   "outputs": [
    {
     "data": {
      "text/plain": [
       "array([[    0],\n",
       "       [    1],\n",
       "       [    2],\n",
       "       ...,\n",
       "       [32765],\n",
       "       [32766],\n",
       "       [32767]])"
      ]
     },
     "execution_count": 7,
     "metadata": {},
     "output_type": "execute_result"
    }
   ],
   "source": [
    "x = np.array([range(pow(2, n))]).transpose()\n",
    "x"
   ]
  },
  {
   "cell_type": "code",
   "execution_count": 8,
   "metadata": {},
   "outputs": [
    {
     "data": {
      "text/plain": [
       "array([[1.00000000e+00, 5.00000000e-01, 2.50000000e-01, 1.25000000e-01,\n",
       "        6.25000000e-02, 3.12500000e-02, 1.56250000e-02, 7.81250000e-03,\n",
       "        3.90625000e-03, 1.95312500e-03, 9.76562500e-04, 4.88281250e-04,\n",
       "        2.44140625e-04, 1.22070312e-04, 6.10351562e-05]])"
      ]
     },
     "execution_count": 8,
     "metadata": {},
     "output_type": "execute_result"
    }
   ],
   "source": [
    "y = np.array([np.power([2.0]*n, np.array(range(0, -n, -1)))])\n",
    "y"
   ]
  },
  {
   "cell_type": "code",
   "execution_count": 9,
   "metadata": {},
   "outputs": [],
   "source": [
    "list_binary_states = np.remainder(\n",
    "    np.floor(\n",
    "        np.multiply(x, y)\n",
    "    ), 2\n",
    ").astype(bool)"
   ]
  },
  {
   "cell_type": "code",
   "execution_count": 10,
   "metadata": {},
   "outputs": [
    {
     "data": {
      "text/plain": [
       "(32768, 15)"
      ]
     },
     "execution_count": 10,
     "metadata": {},
     "output_type": "execute_result"
    }
   ],
   "source": [
    "np.shape(list_binary_states)"
   ]
  },
  {
   "cell_type": "markdown",
   "metadata": {},
   "source": [
    "##### Then, building the update matrix"
   ]
  },
  {
   "cell_type": "code",
   "execution_count": 11,
   "metadata": {},
   "outputs": [],
   "source": [
    "def gen_array(formula, list_binary_states, nodes):\n",
    "\n",
    "    if isinstance(formula, boolean.boolean.Symbol):\n",
    "        return list_binary_states[:, nodes.index(str(formula))]\n",
    "    \n",
    "    elif isinstance(formula, boolean.boolean.NOT) or isinstance(formula, minibn.NOT):\n",
    "        return np.logical_not(\n",
    "            gen_array(formula.args[0], list_binary_states, nodes)\n",
    "        )\n",
    "    \n",
    "    elif isinstance(formula, boolean.boolean.OR):\n",
    "        ret = gen_array(formula.args[0], list_binary_states, nodes)\n",
    "        for i in range(1, len(formula.args)):\n",
    "            ret = np.logical_or(ret, \n",
    "                gen_array(formula.args[i], list_binary_states, nodes)\n",
    "            )\n",
    "        return ret\n",
    "    \n",
    "    elif isinstance(formula, boolean.boolean.AND):\n",
    "        ret = gen_array(formula.args[0], list_binary_states, nodes)\n",
    "        for i in range(1, len(formula.args)):\n",
    "            ret = np.logical_and(ret, \n",
    "                gen_array(formula.args[i], list_binary_states, nodes)\n",
    "            )\n",
    "        return ret\n",
    "    \n",
    "    else:\n",
    "        print(\"Unknown boolean operator : %s\" % type(formula))"
   ]
  },
  {
   "cell_type": "code",
   "execution_count": 12,
   "metadata": {},
   "outputs": [],
   "source": [
    "update_matrix = np.array(\n",
    "    [\n",
    "        gen_array(model[node], list_binary_states, nodes) \n",
    "        for node in nodes\n",
    "    ]\n",
    ").transpose()"
   ]
  },
  {
   "cell_type": "code",
   "execution_count": 13,
   "metadata": {},
   "outputs": [
    {
     "data": {
      "text/plain": [
       "(32768, 15)"
      ]
     },
     "execution_count": 13,
     "metadata": {},
     "output_type": "execute_result"
    }
   ],
   "source": [
    "np.shape(update_matrix)"
   ]
  },
  {
   "cell_type": "markdown",
   "metadata": {},
   "source": [
    "It should be using scipy's sparse matricies, but for now it's ok"
   ]
  },
  {
   "cell_type": "markdown",
   "metadata": {},
   "source": [
    "##### Build up/down trans source/target"
   ]
  },
  {
   "cell_type": "code",
   "execution_count": 14,
   "metadata": {},
   "outputs": [],
   "source": [
    "def fcn_states_inds(yes_no, n_series_exp, n_isl_exp):\n",
    "    # Here we have the problem of array indices from matlab (1...n) that are different \n",
    "    # Shoud we just substract one at the end ? Yes we should, but not only\n",
    "    #\n",
    "    # n_isl_exp is the indice of the up matrix column, so we should increase it by one\n",
    "    # (because our input will be already decrease by one)\n",
    "    # yes_no should be some boolean value, hopefully. So we don't touch\n",
    "    # n_series_exp is the number of nodes, so it should already be ok\n",
    "    \n",
    "    n_series_exp = n_series_exp - 1\n",
    "#     n_isl_exp = n_isl_exp - 1\n",
    "    yes_no = yes_no - 1\n",
    "    \n",
    "    f_mat = np.array(\n",
    "        range(\n",
    "            1, \n",
    "            pow(2, (n_series_exp-n_isl_exp))+1\n",
    "        )\n",
    "    ) + yes_no\n",
    "\n",
    "    t_repmat = np.array([f_mat]*int(pow(2, n_isl_exp)))\n",
    "        \n",
    "    t_reshaped = np.reshape(t_repmat, (1, int(pow(2, n_series_exp))), order='F')\n",
    "    \n",
    "    t_mult = t_reshaped*pow(2, n_isl_exp)\n",
    "    t_last = np.array(\n",
    "        range(\n",
    "            1, \n",
    "            pow(2, n_series_exp)+1\n",
    "        )\n",
    "    )\n",
    "    \n",
    "    \n",
    "    return np.sum([t_last, t_mult])-1"
   ]
  },
  {
   "cell_type": "code",
   "execution_count": 15,
   "metadata": {},
   "outputs": [
    {
     "data": {
      "text/plain": [
       "[array([], dtype=int64),\n",
       " array([], dtype=int64),\n",
       " array([    2,     3,    10, ..., 16275, 16282, 16283]),\n",
       " array([ 1024,  1025,  1026, ..., 32757, 32758, 32759]),\n",
       " array([ 1026,  1027,  1030, ..., 32747, 32750, 32751]),\n",
       " array([    4,     5,     6, ..., 15837, 15838, 15839]),\n",
       " array([    4,     5,     6, ..., 15773, 15774, 15775]),\n",
       " array([   17,    18,    19, ..., 32117, 32118, 32119]),\n",
       " array([  128,   129,   130, ..., 32509, 32510, 32511]),\n",
       " array([  260,   261,   262, ..., 32253, 32254, 32255]),\n",
       " array([    4,     5,     6, ..., 31741, 31742, 31743]),\n",
       " array([ 1024,  1025,  1026, ..., 30717, 30718, 30719]),\n",
       " array([ 1024,  1025,  1026, ..., 28669, 28670, 28671]),\n",
       " array([    4,     5,     6, ..., 24573, 24574, 24575]),\n",
       " array([    4,     5,     6, ..., 15773, 15774, 15775])]"
      ]
     },
     "execution_count": 15,
     "metadata": {},
     "output_type": "execute_result"
    }
   ],
   "source": [
    "up_trans_source = [\n",
    "    np.intersect1d(\n",
    "        np.nonzero(update_matrix[:, x])[0],\n",
    "        fcn_states_inds(0, n, x)[0, :]\n",
    "    ) \n",
    "    for x in range(n)\n",
    "]\n",
    "up_trans_source"
   ]
  },
  {
   "cell_type": "code",
   "execution_count": 16,
   "metadata": {},
   "outputs": [
    {
     "data": {
      "text/plain": [
       "[array([], dtype=int64),\n",
       " array([], dtype=int64),\n",
       " array([   36,    37,    38, ..., 32765, 32766, 32767]),\n",
       " array([    8,     9,    10, ..., 29693, 29694, 29695]),\n",
       " array([   16,    17,    18, ..., 32761, 32764, 32765]),\n",
       " array([  544,   545,   546, ..., 32765, 32766, 32767]),\n",
       " array([   96,    97,    98, ..., 32765, 32766, 32767]),\n",
       " array([  128,   129,   130, ..., 32765, 32766, 32767]),\n",
       " array([], dtype=int64),\n",
       " array([], dtype=int64),\n",
       " array([ 1024,  1025,  1026, ..., 32761, 32762, 32763]),\n",
       " array([ 2048,  2049,  2050, ..., 31741, 31742, 31743]),\n",
       " array([ 4096,  4097,  4098, ..., 29693, 29694, 29695]),\n",
       " array([ 8192,  8193,  8194, ..., 25593, 25594, 25595]),\n",
       " array([16416, 16417, 16418, ..., 32765, 32766, 32767])]"
      ]
     },
     "execution_count": 16,
     "metadata": {},
     "output_type": "execute_result"
    }
   ],
   "source": [
    "down_trans_source = [\n",
    "    np.intersect1d(\n",
    "        np.nonzero(np.logical_not(update_matrix[:, x]))[0],\n",
    "        fcn_states_inds(1, n, x)[0, :]\n",
    "    ) \n",
    "    for x in range(n)\n",
    "]\n",
    "down_trans_source"
   ]
  },
  {
   "cell_type": "code",
   "execution_count": 17,
   "metadata": {},
   "outputs": [
    {
     "data": {
      "text/plain": [
       "[array([], shape=(0, 3), dtype=int64),\n",
       " array([], shape=(0, 3), dtype=int64),\n",
       " array([[   32,     2,     1],\n",
       "        [   33,     2,     1],\n",
       "        [   34,     2,     1],\n",
       "        ...,\n",
       "        [32761,     2,     1],\n",
       "        [32762,     2,     1],\n",
       "        [32763,     2,     1]]),\n",
       " array([[    0,     3,     1],\n",
       "        [    1,     3,     1],\n",
       "        [    2,     3,     1],\n",
       "        ...,\n",
       "        [29685,     3,     1],\n",
       "        [29686,     3,     1],\n",
       "        [29687,     3,     1]]),\n",
       " array([[    0,     4,     1],\n",
       "        [    1,     4,     1],\n",
       "        [    2,     4,     1],\n",
       "        ...,\n",
       "        [32745,     4,     1],\n",
       "        [32748,     4,     1],\n",
       "        [32749,     4,     1]]),\n",
       " array([[  512,     5,     1],\n",
       "        [  513,     5,     1],\n",
       "        [  514,     5,     1],\n",
       "        ...,\n",
       "        [32733,     5,     1],\n",
       "        [32734,     5,     1],\n",
       "        [32735,     5,     1]]),\n",
       " array([[   32,     6,     1],\n",
       "        [   33,     6,     1],\n",
       "        [   34,     6,     1],\n",
       "        ...,\n",
       "        [32701,     6,     1],\n",
       "        [32702,     6,     1],\n",
       "        [32703,     6,     1]]),\n",
       " array([[    0,     7,     1],\n",
       "        [    1,     7,     1],\n",
       "        [    2,     7,     1],\n",
       "        ...,\n",
       "        [32637,     7,     1],\n",
       "        [32638,     7,     1],\n",
       "        [32639,     7,     1]]),\n",
       " array([], shape=(0, 3), dtype=int64),\n",
       " array([], shape=(0, 3), dtype=int64),\n",
       " array([[    0,    10,     1],\n",
       "        [    1,    10,     1],\n",
       "        [    2,    10,     1],\n",
       "        ...,\n",
       "        [31737,    10,     1],\n",
       "        [31738,    10,     1],\n",
       "        [31739,    10,     1]]),\n",
       " array([[    0,    11,     1],\n",
       "        [    1,    11,     1],\n",
       "        [    2,    11,     1],\n",
       "        ...,\n",
       "        [29693,    11,     1],\n",
       "        [29694,    11,     1],\n",
       "        [29695,    11,     1]]),\n",
       " array([[    0,    12,     1],\n",
       "        [    1,    12,     1],\n",
       "        [    2,    12,     1],\n",
       "        ...,\n",
       "        [25597,    12,     1],\n",
       "        [25598,    12,     1],\n",
       "        [25599,    12,     1]]),\n",
       " array([[    0,    13,     1],\n",
       "        [    1,    13,     1],\n",
       "        [    2,    13,     1],\n",
       "        ...,\n",
       "        [17401,    13,     1],\n",
       "        [17402,    13,     1],\n",
       "        [17403,    13,     1]]),\n",
       " array([[   32,    14,     1],\n",
       "        [   33,    14,     1],\n",
       "        [   34,    14,     1],\n",
       "        ...,\n",
       "        [16381,    14,     1],\n",
       "        [16382,    14,     1],\n",
       "        [16383,    14,     1]])]"
      ]
     },
     "execution_count": 17,
     "metadata": {},
     "output_type": "execute_result"
    }
   ],
   "source": [
    "# Question to Mihaly : Should it be [x 2] or [x 1] ? \n",
    "# Is it some kind of label, or a indice ?\n",
    "# Actually, it is used as some kind of indice !\n",
    "# so, we decreate it by one\n",
    "down_trans_target = [\n",
    "    np.concatenate(\n",
    "        (\n",
    "            np.array([down_trans_source[x]-pow(2, x)]).transpose(), \n",
    "            np.repeat(np.array([[x,1]]), len(down_trans_source[x]), axis=0)\n",
    "        ), axis=1\n",
    "    )\n",
    "    for x in range(len(down_trans_source))\n",
    "]\n",
    "down_trans_target"
   ]
  },
  {
   "cell_type": "code",
   "execution_count": 18,
   "metadata": {},
   "outputs": [
    {
     "data": {
      "text/plain": [
       "[array([], shape=(0, 3), dtype=int64),\n",
       " array([], shape=(0, 3), dtype=int64),\n",
       " array([[    6,     2,     0],\n",
       "        [    7,     2,     0],\n",
       "        [   14,     2,     0],\n",
       "        ...,\n",
       "        [16279,     2,     0],\n",
       "        [16286,     2,     0],\n",
       "        [16287,     2,     0]]),\n",
       " array([[ 1032,     3,     0],\n",
       "        [ 1033,     3,     0],\n",
       "        [ 1034,     3,     0],\n",
       "        ...,\n",
       "        [32765,     3,     0],\n",
       "        [32766,     3,     0],\n",
       "        [32767,     3,     0]]),\n",
       " array([[ 1042,     4,     0],\n",
       "        [ 1043,     4,     0],\n",
       "        [ 1046,     4,     0],\n",
       "        ...,\n",
       "        [32763,     4,     0],\n",
       "        [32766,     4,     0],\n",
       "        [32767,     4,     0]]),\n",
       " array([[   36,     5,     0],\n",
       "        [   37,     5,     0],\n",
       "        [   38,     5,     0],\n",
       "        ...,\n",
       "        [15869,     5,     0],\n",
       "        [15870,     5,     0],\n",
       "        [15871,     5,     0]]),\n",
       " array([[   68,     6,     0],\n",
       "        [   69,     6,     0],\n",
       "        [   70,     6,     0],\n",
       "        ...,\n",
       "        [15837,     6,     0],\n",
       "        [15838,     6,     0],\n",
       "        [15839,     6,     0]]),\n",
       " array([[  145,     7,     0],\n",
       "        [  146,     7,     0],\n",
       "        [  147,     7,     0],\n",
       "        ...,\n",
       "        [32245,     7,     0],\n",
       "        [32246,     7,     0],\n",
       "        [32247,     7,     0]]),\n",
       " array([[  384,     8,     0],\n",
       "        [  385,     8,     0],\n",
       "        [  386,     8,     0],\n",
       "        ...,\n",
       "        [32765,     8,     0],\n",
       "        [32766,     8,     0],\n",
       "        [32767,     8,     0]]),\n",
       " array([[  772,     9,     0],\n",
       "        [  773,     9,     0],\n",
       "        [  774,     9,     0],\n",
       "        ...,\n",
       "        [32765,     9,     0],\n",
       "        [32766,     9,     0],\n",
       "        [32767,     9,     0]]),\n",
       " array([[ 1028,    10,     0],\n",
       "        [ 1029,    10,     0],\n",
       "        [ 1030,    10,     0],\n",
       "        ...,\n",
       "        [32765,    10,     0],\n",
       "        [32766,    10,     0],\n",
       "        [32767,    10,     0]]),\n",
       " array([[ 3072,    11,     0],\n",
       "        [ 3073,    11,     0],\n",
       "        [ 3074,    11,     0],\n",
       "        ...,\n",
       "        [32765,    11,     0],\n",
       "        [32766,    11,     0],\n",
       "        [32767,    11,     0]]),\n",
       " array([[ 5120,    12,     0],\n",
       "        [ 5121,    12,     0],\n",
       "        [ 5122,    12,     0],\n",
       "        ...,\n",
       "        [32765,    12,     0],\n",
       "        [32766,    12,     0],\n",
       "        [32767,    12,     0]]),\n",
       " array([[ 8196,    13,     0],\n",
       "        [ 8197,    13,     0],\n",
       "        [ 8198,    13,     0],\n",
       "        ...,\n",
       "        [32765,    13,     0],\n",
       "        [32766,    13,     0],\n",
       "        [32767,    13,     0]]),\n",
       " array([[16388,    14,     0],\n",
       "        [16389,    14,     0],\n",
       "        [16390,    14,     0],\n",
       "        ...,\n",
       "        [32157,    14,     0],\n",
       "        [32158,    14,     0],\n",
       "        [32159,    14,     0]])]"
      ]
     },
     "execution_count": 18,
     "metadata": {},
     "output_type": "execute_result"
    }
   ],
   "source": [
    "# Same here : Question to Mihaly : Should it be [x 1] or [x 0] ? \n",
    "# Is it some kind of label, or a indice ?\n",
    "# Actually, yes\n",
    "up_trans_target = [\n",
    "    np.concatenate(\n",
    "        (\n",
    "            np.array([up_trans_source[x]+pow(2, x)]).transpose(), \n",
    "            np.repeat(np.array([[x,0]]), len(up_trans_source[x]), axis=0)\n",
    "        ), axis=1\n",
    "    )\n",
    "    for x in range(len(up_trans_source))\n",
    "]\n",
    "up_trans_target"
   ]
  },
  {
   "cell_type": "markdown",
   "metadata": {},
   "source": [
    "##### Assembling them in the STG table"
   ]
  },
  {
   "cell_type": "code",
   "execution_count": 19,
   "metadata": {},
   "outputs": [],
   "source": [
    "source = np.concatenate([\n",
    "    np.concatenate(down_trans_source, axis=0),\n",
    "    np.concatenate(up_trans_source, axis=0)\n",
    "])\n",
    "\n",
    "target = np.concatenate([\n",
    "    np.concatenate(down_trans_target, axis=0),\n",
    "    np.concatenate(up_trans_target, axis=0)\n",
    "])"
   ]
  },
  {
   "cell_type": "code",
   "execution_count": 20,
   "metadata": {},
   "outputs": [],
   "source": [
    "stg_table = np.concatenate((np.array([source]).transpose(), target), axis=1)"
   ]
  },
  {
   "cell_type": "code",
   "execution_count": 21,
   "metadata": {},
   "outputs": [
    {
     "data": {
      "text/plain": [
       "(188416, 4)"
      ]
     },
     "execution_count": 21,
     "metadata": {},
     "output_type": "execute_result"
    }
   ],
   "source": [
    "stg_table.shape"
   ]
  },
  {
   "cell_type": "code",
   "execution_count": 22,
   "metadata": {},
   "outputs": [
    {
     "name": "stdout",
     "output_type": "stream",
     "text": [
      "6029312 bytes\n"
     ]
    }
   ],
   "source": [
    "print(\"%d bytes\" % (stg_table.shape[0] * stg_table.shape[1] * stg_table.itemsize))"
   ]
  },
  {
   "cell_type": "code",
   "execution_count": 23,
   "metadata": {},
   "outputs": [
    {
     "data": {
      "text/plain": [
       "array([[36, 32,  2,  1],\n",
       "       [37, 33,  2,  1],\n",
       "       [38, 34,  2,  1],\n",
       "       [39, 35,  2,  1],\n",
       "       [44, 40,  2,  1],\n",
       "       [45, 41,  2,  1],\n",
       "       [46, 42,  2,  1],\n",
       "       [47, 43,  2,  1],\n",
       "       [52, 48,  2,  1],\n",
       "       [53, 49,  2,  1]])"
      ]
     },
     "execution_count": 23,
     "metadata": {},
     "output_type": "execute_result"
    }
   ],
   "source": [
    "stg_table[0:10, :]"
   ]
  },
  {
   "cell_type": "code",
   "execution_count": 24,
   "metadata": {},
   "outputs": [
    {
     "data": {
      "text/plain": [
       "array([[ 9476, 25860,    14,     0],\n",
       "       [ 9477, 25861,    14,     0],\n",
       "       [ 9478, 25862,    14,     0],\n",
       "       [ 9479, 25863,    14,     0],\n",
       "       [ 9484, 25868,    14,     0],\n",
       "       [ 9485, 25869,    14,     0],\n",
       "       [ 9486, 25870,    14,     0],\n",
       "       [ 9487, 25871,    14,     0],\n",
       "       [ 9492, 25876,    14,     0],\n",
       "       [ 9493, 25877,    14,     0]])"
      ]
     },
     "execution_count": 24,
     "metadata": {},
     "output_type": "execute_result"
    }
   ],
   "source": [
    "stg_table[188000:188010, :]"
   ]
  },
  {
   "cell_type": "markdown",
   "metadata": {},
   "source": [
    "##### Building transition rates table"
   ]
  },
  {
   "cell_type": "code",
   "execution_count": 25,
   "metadata": {},
   "outputs": [],
   "source": [
    "# to define transition rates, we can select given rates to have different values than 1, or from randomly chosen\n",
    "# name of rates: 'u_nodename' or 'd_nodename'\n",
    "# chosen_rates={'u_ERBB1','u_ERBB2','u_ERBB3'}; chosen_rates_vals=zeros(size(chosen_rates));\n",
    "# OR leave them empty: \n",
    "chosen_rates = []\n",
    "chosen_rates_vals = []"
   ]
  },
  {
   "cell_type": "code",
   "execution_count": 26,
   "metadata": {},
   "outputs": [],
   "source": [
    "# then we generate the table of transition rates: first row is the 'up'rates, second row 'down' rates, \n",
    "# in the order of 'nodes'\n",
    "# ARGUMENTS\n",
    "# distr_type={'uniform','random'}; % <uniform> assigns a value of 1 to all params. other option: <random>\n",
    "# meanval=[]; sd_val=[]; % if 'random' is chosen, the mean and standard dev of a normal distrib has to be defined \n",
    "# transition_rates_table=fcn_trans_rates_table(nodes,distr_type{1},meanval,sd_val,chosen_rates,chosen_rates_vals);"
   ]
  },
  {
   "cell_type": "code",
   "execution_count": 27,
   "metadata": {},
   "outputs": [],
   "source": [
    "distr_type = ['uniform', 'random'] # <uniform> assigns a value of 1 to all params. other option: <random>\n",
    "meanval = [] # if 'random' is chosen, the mean and standard dev of a normal distrib has to be defined\n",
    "sd_val = []"
   ]
  },
  {
   "cell_type": "code",
   "execution_count": 28,
   "metadata": {},
   "outputs": [],
   "source": [
    "# function transition_rates_table=fcn_trans_rates_table(nodes,uniform_or_rand,meanval,sd_val,chosen_rates,chosen_rates_vals)\n",
    "def fcn_trans_rates_table(nodes, uniform_or_rand, meanval, sd_val, chosen_rates, chosen_rates_vals):\n",
    "# n=numel(nodes); \n",
    "\n",
    "# if strcmp(uniform_or_rand,'uniform')\n",
    "#     rate_vals_num=ones(1,2*length(nodes)); % abs(ones(1,2*length(nodes)) + normrnd(0,0.5,1,2*length(nodes)));\n",
    "#     if uniform_or_rand == \"uniform\":\n",
    "    rate_vals_num = np.ones((1, 2*n)).astype(np.int64)\n",
    "\n",
    "# elseif strcmp(uniform_or_rand,'random')\n",
    "#     % meanval,sd_val\n",
    "#     rate_vals_num=normrnd(meanval,sd_val,1,2*length(nodes));\n",
    "#     % don't let negative values occur!!\n",
    "#     if any(rate_vals_num<0)\n",
    "#         neg_cnt=0;\n",
    "#         while any(rate_vals_num<0)\n",
    "#             disp('negative value, reassigning')\n",
    "#             rate_vals_num=normrnd(meanval,sd_val,1,2*length(nodes));\n",
    "#             neg_cnt=neg_cnt+1;\n",
    "#             if neg_cnt>100\n",
    "#                 break\n",
    "#             end\n",
    "#         end\n",
    "#     end\n",
    "# else\n",
    "#     disp('choose \"uniform\" or \"random\" to generate transition rates')\n",
    "#     rate_vals_num=[];\n",
    "# end\n",
    "\n",
    "# if ~isempty(rate_vals_num)\n",
    "\n",
    "# % changing individual transition rate values \n",
    "# for k=1:numel(chosen_rates)\n",
    "#     split_rate = strsplit(chosen_rates{k},'_'); \n",
    "#     if numel(split_rate)>2\n",
    "#         node_mod_ind=strjoin(split_rate(2:end),'_');\n",
    "#     else\n",
    "#         node_mod_ind=split_rate{2};\n",
    "#     end\n",
    "    \n",
    "#     if strcmp(split_rate{1},'d')\n",
    "#         rate_vals_num(find(strcmp(nodes,node_mod_ind))+n)=chosen_rates_vals(k);\n",
    "#     elseif strcmp(split_rate{1},'u')\n",
    "#         % disp(k)\n",
    "#         rate_vals_num(strcmp(nodes,node_mod_ind))=chosen_rates_vals(k); \n",
    "#     else\n",
    "#         disp('wrong name for transition rate, has to be \"u_nodename\" or \"d_nodename\"')\n",
    "#     end\n",
    "# end\n",
    "\n",
    "# % rate_vals_cell=num2cell(rate_vals_num); \n",
    "# % rate_names (create by strcat)\n",
    "# % [u_cc,u_kras,u_dna_dam,u_chek1,u_mk2,u_atm_atr,u_hr,u_cdc25b,u_g2m_trans,u_cell_death, ...\n",
    "# %     d_cc,d_kras,d_dna_dam,d_chek1,d_mk2,d_atm_atr,d_hr,d_cdc25b,d_g2m_trans,d_cell_death]=deal(rate_vals_cell{:});\n",
    "    return np.reshape(rate_vals_num, (n, 2)).transpose()\n",
    "# transition_rates_table = transpose(reshape(rate_vals_num,length(nodes),2));\n",
    "# end"
   ]
  },
  {
   "cell_type": "code",
   "execution_count": 29,
   "metadata": {},
   "outputs": [],
   "source": [
    "transition_rates_table = fcn_trans_rates_table(nodes, distr_type[1], meanval, sd_val, chosen_rates, chosen_rates_vals)"
   ]
  },
  {
   "cell_type": "markdown",
   "metadata": {},
   "source": [
    "##### Building the (sparse) transition matrix"
   ]
  },
  {
   "cell_type": "code",
   "execution_count": 87,
   "metadata": {},
   "outputs": [],
   "source": [
    "# dim_matr=2^size(transition_rates_table,2);\n",
    "dim_matr = pow(2, transition_rates_table.shape[1])\n",
    "# state_transitions_inds=[trans_source_states_mat, trans_target_states_mat, cell2mat(node_inds), up_down_inds_arr];\n",
    "    \n",
    "# trans_source_states_mat=stg_table(:,1); trans_target_states_mat=stg_table(:,2); up_down_inds_arr=stg_table(:,4); \n",
    "# rate_inds=(stg_table(:,3)-1)*2+stg_table(:,4);\n",
    "rate_inds = ((stg_table[:, 2])*2)+stg_table[:, 3]\n",
    "\n",
    "reshaped_trt = np.reshape(transition_rates_table, (1, np.product(transition_rates_table.shape)), order=\"F\")[0, :]\n",
    "\n",
    "# sub2ind(size(transition_rates_table),up_down_inds_arr, stg_table(:,3));\n",
    "# transition_rates_table.shape\n",
    "# transition_rates_table[rate_inds]\n",
    "# B=sparse(stg_table(:,1), stg_table(:,2), transition_rates_table(rate_inds)/sum(transition_rates_table(:)),dim_matr,dim_matr);\n",
    "B = sp.sparse.csr_matrix(\n",
    "    (\n",
    "        reshaped_trt[rate_inds]/np.sum(transition_rates_table),\n",
    "        (stg_table[:, 0], \n",
    "        stg_table[:, 1])\n",
    "    ),\n",
    "    shape=(dim_matr, dim_matr)\n",
    ")\n",
    "    \n",
    "# diag_vals=1-sum(A_sparse_fast,2); % dim_matr_arr=(1:dim_matr)';\n",
    "# rows = [stg_table(:,1); (1:dim_matr)']; \n",
    "# cols=[stg_table(:,2); (1:dim_matr)']; \n",
    "# vals=[transition_rates_table(rate_inds)/sum(transition_rates_table(:));diag_vals];\n",
    "# A_sparse_fast = sparse(rows,cols,vals,dim_matr,dim_matr);\n",
    "A_sparse_fast = B + (sp.sparse.eye(B.shape[0]) - sp.sparse.diags(np.array(sp.sparse.csr_matrix.sum(B, axis=1).transpose())[0]))\n",
    "# A_sparse_fast = B + (speye(size(B)) - diag(sum(B,2)));\n",
    "\n",
    "# if ~isempty(kin_matr_flag)\n",
    "#     K_sparse=(transpose(A_sparse_fast) - speye(size(A_sparse_fast)) )*sum(transition_rates_table(:));\n",
    "# else\n",
    "#     K_sparse=[];\n",
    "# end\n"
   ]
  },
  {
   "cell_type": "code",
   "execution_count": 88,
   "metadata": {},
   "outputs": [
    {
     "data": {
      "text/plain": [
       "<32768x32768 sparse matrix of type '<class 'numpy.float64'>'\n",
       "\twith 188416 stored elements in Compressed Sparse Row format>"
      ]
     },
     "execution_count": 88,
     "metadata": {},
     "output_type": "execute_result"
    }
   ],
   "source": [
    "B"
   ]
  }
 ],
 "metadata": {
  "kernelspec": {
   "display_name": "Python 3",
   "language": "python",
   "name": "python3"
  },
  "language_info": {
   "codemirror_mode": {
    "name": "ipython",
    "version": 3
   },
   "file_extension": ".py",
   "mimetype": "text/x-python",
   "name": "python",
   "nbconvert_exporter": "python",
   "pygments_lexer": "ipython3",
   "version": "3.6.8"
  }
 },
 "nbformat": 4,
 "nbformat_minor": 4
}
