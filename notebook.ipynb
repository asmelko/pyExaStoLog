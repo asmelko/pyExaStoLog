{
 "cells": [
  {
   "cell_type": "code",
   "execution_count": 1,
   "metadata": {},
   "outputs": [],
   "source": [
    "%load_ext autoreload\n",
    "%autoreload 2"
   ]
  },
  {
   "cell_type": "code",
   "execution_count": 36,
   "metadata": {},
   "outputs": [],
   "source": [
    "import numpy as np\n",
    "import boolean\n",
    "import scipy as sp\n",
    "import sys"
   ]
  },
  {
   "cell_type": "markdown",
   "metadata": {},
   "source": [
    "### Building STG table"
   ]
  },
  {
   "cell_type": "code",
   "execution_count": 3,
   "metadata": {},
   "outputs": [],
   "source": [
    "def readBNet(filename):\n",
    "    bnet_model = {}\n",
    "    algebra = boolean.BooleanAlgebra()\n",
    "    with open(filename, 'r') as f:\n",
    "        lines = f.readlines()\n",
    "        for line in lines:\n",
    "            species, formula = [value.strip() for value in line.split(\",\")]\n",
    "            if species != \"target\" and formula != \"factors\":\n",
    "                b_formula = algebra.parse(formula).simplify()\n",
    "                bnet_model.update({species:b_formula})\n",
    "                \n",
    "    return bnet_model"
   ]
  },
  {
   "cell_type": "markdown",
   "metadata": {},
   "source": [
    "##### First, loading the model as a minibn"
   ]
  },
  {
   "cell_type": "code",
   "execution_count": 4,
   "metadata": {},
   "outputs": [],
   "source": [
    "model_name_list = [\n",
    "    'mammalian_cc', \n",
    "    'krasmodel15vars',\n",
    "    'breast_cancer_zanudo2017',\n",
    "    'EMT_cohen_ModNet',\n",
    "    'sahin_breast_cancer_refined'\n",
    "]\n",
    "model_index = 1"
   ]
  },
  {
   "cell_type": "code",
   "execution_count": 5,
   "metadata": {},
   "outputs": [],
   "source": [
    "model = readBNet((\"model_files/%s.bnet\" % model_name_list[model_index]))"
   ]
  },
  {
   "cell_type": "code",
   "execution_count": 6,
   "metadata": {},
   "outputs": [],
   "source": [
    "nodes = list(model.keys())"
   ]
  },
  {
   "cell_type": "code",
   "execution_count": 7,
   "metadata": {},
   "outputs": [
    {
     "data": {
      "text/plain": [
       "15"
      ]
     },
     "execution_count": 7,
     "metadata": {},
     "output_type": "execute_result"
    }
   ],
   "source": [
    "n=len(nodes)\n",
    "n"
   ]
  },
  {
   "cell_type": "markdown",
   "metadata": {},
   "source": [
    "##### Then, actually building the table"
   ]
  },
  {
   "cell_type": "code",
   "execution_count": 8,
   "metadata": {},
   "outputs": [],
   "source": [
    "def fcn_gen_node_update(formula, list_binary_states, nodes):\n",
    "\n",
    "    if isinstance(formula, boolean.boolean.Symbol):\n",
    "        return list_binary_states[:, nodes.index(str(formula))]\n",
    "    \n",
    "    elif isinstance(formula, boolean.boolean.NOT):\n",
    "        return np.logical_not(\n",
    "            fcn_gen_node_update(formula.args[0], list_binary_states, nodes)\n",
    "        )\n",
    "    \n",
    "    elif isinstance(formula, boolean.boolean.OR):\n",
    "        ret = fcn_gen_node_update(formula.args[0], list_binary_states, nodes)\n",
    "        for i in range(1, len(formula.args)):\n",
    "            ret = np.logical_or(ret, \n",
    "                fcn_gen_node_update(formula.args[i], list_binary_states, nodes)\n",
    "            )\n",
    "        return ret\n",
    "    \n",
    "    elif isinstance(formula, boolean.boolean.AND):\n",
    "        ret = fcn_gen_node_update(formula.args[0], list_binary_states, nodes)\n",
    "        for i in range(1, len(formula.args)):\n",
    "            ret = np.logical_and(ret, \n",
    "                fcn_gen_node_update(formula.args[i], list_binary_states, nodes)\n",
    "            )\n",
    "        return ret\n",
    "    \n",
    "    else:\n",
    "        print(\"Unknown boolean operator : %s\" % type(formula))"
   ]
  },
  {
   "cell_type": "code",
   "execution_count": 9,
   "metadata": {},
   "outputs": [],
   "source": [
    "def fcn_build_update_table(model, list_binary_states, nodes):\n",
    "    update_matrix = np.array(\n",
    "        [\n",
    "            fcn_gen_node_update(model[node], list_binary_states, nodes) \n",
    "            for node in nodes\n",
    "        ]\n",
    "    ).transpose()\n",
    "    \n",
    "    return update_matrix"
   ]
  },
  {
   "cell_type": "code",
   "execution_count": 10,
   "metadata": {},
   "outputs": [],
   "source": [
    "def fcn_states_inds(yes_no, n_series_exp, n_isl_exp):\n",
    "    \n",
    "    n_series_exp = n_series_exp - 1\n",
    "    yes_no = yes_no - 1\n",
    "    \n",
    "    f_mat = np.array(\n",
    "        range(\n",
    "            1, \n",
    "            pow(2, (n_series_exp-n_isl_exp))+1\n",
    "        )\n",
    "    ) + yes_no\n",
    "\n",
    "    t_repmat = np.array([f_mat]*int(pow(2, n_isl_exp)))\n",
    "        \n",
    "    t_reshaped = np.reshape(t_repmat, (1, int(pow(2, n_series_exp))), order='F')\n",
    "    \n",
    "    t_mult = t_reshaped*pow(2, n_isl_exp)\n",
    "    t_last = np.array(\n",
    "        range(\n",
    "            1, \n",
    "            pow(2, n_series_exp)+1\n",
    "        )\n",
    "    )\n",
    "    \n",
    "    return np.sum([t_last, t_mult])-1"
   ]
  },
  {
   "cell_type": "code",
   "execution_count": 11,
   "metadata": {},
   "outputs": [],
   "source": [
    "def fcn_build_stg_table(model, nodes):\n",
    "    list_binary_states = np.remainder(\n",
    "        np.floor(\n",
    "            np.multiply(\n",
    "                np.array([range(pow(2, n))]).transpose(), \n",
    "                np.array([np.power([2.0]*n, np.array(range(0, -n, -1)))])\n",
    "            )\n",
    "        ), 2\n",
    "    ).astype(bool)\n",
    "    \n",
    "    update_table = fcn_build_update_table(model, list_binary_states, nodes)\n",
    "    \n",
    "    up_trans_source = [\n",
    "        np.intersect1d(\n",
    "            np.nonzero(update_table[:, x])[0],\n",
    "            fcn_states_inds(0, n, x)[0, :]\n",
    "        ) \n",
    "        for x in range(n)\n",
    "    ]\n",
    "        \n",
    "    down_trans_source = [\n",
    "        np.intersect1d(\n",
    "            np.nonzero(np.logical_not(update_table[:, x]))[0],\n",
    "            fcn_states_inds(1, n, x)[0, :]\n",
    "        ) \n",
    "        for x in range(n)\n",
    "    ]\n",
    "    \n",
    "    down_trans_target = [\n",
    "        np.concatenate(\n",
    "            (\n",
    "                np.array([down_trans_source[x]-pow(2, x)]).transpose(), \n",
    "                np.repeat(np.array([[x,1]]), len(down_trans_source[x]), axis=0)\n",
    "            ), axis=1\n",
    "        )\n",
    "        for x in range(len(down_trans_source))\n",
    "    ]\n",
    "    \n",
    "    up_trans_target = [\n",
    "        np.concatenate(\n",
    "            (\n",
    "                np.array([up_trans_source[x]+pow(2, x)]).transpose(), \n",
    "                np.repeat(np.array([[x,0]]), len(up_trans_source[x]), axis=0)\n",
    "            ), axis=1\n",
    "        )\n",
    "        for x in range(len(up_trans_source))\n",
    "    ]\n",
    "    \n",
    "    source = np.concatenate([\n",
    "        np.concatenate(down_trans_source, axis=0),\n",
    "        np.concatenate(up_trans_source, axis=0)\n",
    "    ])\n",
    "\n",
    "    target = np.concatenate([\n",
    "        np.concatenate(down_trans_target, axis=0),\n",
    "        np.concatenate(up_trans_target, axis=0)\n",
    "    ])\n",
    "    \n",
    "    stg_table = np.concatenate((np.array([source]).transpose(), target), axis=1)\n",
    "    \n",
    "    return stg_table"
   ]
  },
  {
   "cell_type": "code",
   "execution_count": 12,
   "metadata": {},
   "outputs": [
    {
     "data": {
      "text/plain": [
       "(188416, 4)"
      ]
     },
     "execution_count": 12,
     "metadata": {},
     "output_type": "execute_result"
    }
   ],
   "source": [
    "stg_table = fcn_build_stg_table(model, nodes)\n",
    "stg_table.shape"
   ]
  },
  {
   "cell_type": "code",
   "execution_count": 13,
   "metadata": {},
   "outputs": [
    {
     "name": "stdout",
     "output_type": "stream",
     "text": [
      "5.75Mbytes\n"
     ]
    }
   ],
   "source": [
    "print(\"%.2fMbytes\" % (stg_table.shape[0] * stg_table.shape[1] * stg_table.itemsize / (1024*1024)))"
   ]
  },
  {
   "cell_type": "markdown",
   "metadata": {},
   "source": [
    "##### Building transition rates table"
   ]
  },
  {
   "cell_type": "code",
   "execution_count": 24,
   "metadata": {},
   "outputs": [],
   "source": [
    "# to define transition rates, we can select given rates to have different values than 1, or from randomly chosen\n",
    "# name of rates: 'u_nodename' or 'd_nodename'\n",
    "# chosen_rates=['u_ERBB1','u_ERBB2','u_ERBB3']; chosen_rates_vals=np.zeros(len(chosen_rates));\n",
    "# OR leave them empty: \n",
    "chosen_rates = []\n",
    "chosen_rates_vals = []\n",
    "\n",
    "# chosen_rates = [\"u_CHEK1\", \"d_CHEK1\"]\n",
    "# chosen_rates_vals = np.ones(len(chosen_rates))"
   ]
  },
  {
   "cell_type": "code",
   "execution_count": 25,
   "metadata": {},
   "outputs": [],
   "source": [
    "# then we generate the table of transition rates: first row is the 'up'rates, second row 'down' rates, \n",
    "# in the order of 'nodes'\n",
    "# ARGUMENTS"
   ]
  },
  {
   "cell_type": "code",
   "execution_count": 26,
   "metadata": {},
   "outputs": [],
   "source": [
    "distr_type = ['uniform', 'random'] # <uniform> assigns a value of 1 to all params. other option: <random>\n",
    "meanval = 0.5 # if 'random' is chosen, the mean and standard dev of a normal distrib has to be defined\n",
    "sd_val = 0.1"
   ]
  },
  {
   "cell_type": "code",
   "execution_count": 27,
   "metadata": {},
   "outputs": [],
   "source": [
    "def fcn_trans_rates_table(nodes, uniform_or_rand, meanval, sd_val, chosen_rates, chosen_rates_vals):\n",
    "    n = len(nodes)\n",
    "\n",
    "    if uniform_or_rand == \"uniform\":\n",
    "        rate_vals_num = np.ones((1, 2*n)).astype(np.int64)\n",
    "\n",
    "    elif uniform_or_rand == \"random\":\n",
    "        rate_vals_num = np.random.normal(meanval, sd_val, (1, 2*n))\n",
    "        if np.any(rate_vals_num < 0):\n",
    "            neg_cnt = 0\n",
    "            while np.any(rate_vals_num < 0):\n",
    "                rate_vals_num = np.random.normal(meanval, sd_val, (1, 2*n))\n",
    "                neg_cnt += 1\n",
    "                if neg_cnt > 100:\n",
    "                    break\n",
    "                    \n",
    "    else:\n",
    "        print(\"Choose 'uniform' or 'random' to generate transition rates\", file=sys.stderr)\n",
    "        return\n",
    "\n",
    "    for k, chosen_rate in enumerate(chosen_rates):\n",
    "        split_rate = chosen_rate.split(\"_\")\n",
    "        if len(split_rate) > 2:\n",
    "            node_mod_ind = \"_\".join(split_rate[1:])\n",
    "        else:\n",
    "            node_mod_ind = split_rate[1]\n",
    "\n",
    "        if split_rate[0] == \"d\":\n",
    "            rate_vals_num[:, nodes.index(node_mod_ind)+n] = chosen_rates_vals[k]\n",
    "        elif split_rate[0] == \"u\":\n",
    "            rate_vals_num[:, nodes.index(node_mod_ind)] = chosen_rates_vals[k]\n",
    "        else:\n",
    "            print(\"Wrong name for transition rate, has to be 'u_nodename' or 'd_nodename'\", file=sys.stderr)\n",
    "            return\n",
    "    \n",
    "    return np.reshape(rate_vals_num, (n, 2)).transpose()\n"
   ]
  },
  {
   "cell_type": "code",
   "execution_count": 28,
   "metadata": {},
   "outputs": [],
   "source": [
    "transition_rates_table = fcn_trans_rates_table(nodes, distr_type[0], meanval, sd_val, chosen_rates, chosen_rates_vals)"
   ]
  },
  {
   "cell_type": "markdown",
   "metadata": {},
   "source": [
    "##### Building the (sparse) transition matrix"
   ]
  },
  {
   "cell_type": "code",
   "execution_count": 29,
   "metadata": {},
   "outputs": [],
   "source": [
    "def fcn_build_trans_matr(stg_table, transition_rates_table, kin_matr_flag=\"\"):\n",
    "\n",
    "    dim_matr = pow(2, transition_rates_table.shape[1])\n",
    "    \n",
    "    rate_inds = ((stg_table[:, 2])*2)+stg_table[:, 3]\n",
    "\n",
    "    # Here we reshape the transition_rates_table to a list\n",
    "    reshaped_trt = np.reshape(transition_rates_table, (1, np.product(transition_rates_table.shape)), order=\"F\")[0, :]\n",
    "\n",
    "    B = sp.sparse.csr_matrix(\n",
    "        (\n",
    "            reshaped_trt[rate_inds]/np.sum(transition_rates_table),\n",
    "            (stg_table[:, 0], \n",
    "            stg_table[:, 1])\n",
    "        ),\n",
    "        shape=(dim_matr, dim_matr)\n",
    "    )\n",
    "\n",
    "    A_sparse = B + (sp.sparse.eye(B.shape[0]) - sp.sparse.diags(np.array(sp.sparse.csr_matrix.sum(B, axis=1).transpose())[0]))\n",
    "\n",
    "    if len(kin_matr_flag) > 0:\n",
    "        K_sparse = (A_sparse.transpose() - sp.sparse.eye(A_sparse.shape[0]))*np.sum(transition_rates_table)\n",
    "\n",
    "    else:\n",
    "        K_sparse = []\n",
    "\n",
    "    return A_sparse, K_sparse"
   ]
  },
  {
   "cell_type": "code",
   "execution_count": 30,
   "metadata": {},
   "outputs": [],
   "source": [
    "A_sparse, _ = fcn_build_trans_matr(stg_table, transition_rates_table, 'yes')"
   ]
  },
  {
   "cell_type": "code",
   "execution_count": 31,
   "metadata": {},
   "outputs": [
    {
     "name": "stdout",
     "output_type": "stream",
     "text": [
      "1.69 Mbytes\n"
     ]
    }
   ],
   "source": [
    "print(\"%.2f Mbytes\" % (A_sparse.data.nbytes/(1024*1024)))"
   ]
  },
  {
   "cell_type": "markdown",
   "metadata": {},
   "source": [
    "##### Setting up initial values"
   ]
  },
  {
   "cell_type": "code",
   "execution_count": 32,
   "metadata": {},
   "outputs": [],
   "source": [
    "initial_fixed_nodes_list = [\n",
    "    ['CycE','CycA','CycB','Cdh1','Rb_b1','Rb_b2','p27_b1','p27_b2'], # mammalian_cc\n",
    "    ['cc','KRAS','DSB','cell_death'], #krasmodel15vars\n",
    "    ['Alpelisib', 'Everolimus','PIM','Proliferation','Apoptosis'], # breast_cancer_zanudo2017\n",
    "    ['ECMicroenv','DNAdamage','Metastasis','Migration','Invasion','EMT','Apoptosis','Notch_pthw','p53'], # EMT_cohen_ModNet \n",
    "    ['EGF','ERBB1','ERBB2','ERBB3','p21','p27'] # sahin_breast_cancer_refined\n",
    "] \n",
    "\n",
    "initial_fixed_nodes_vals_list = [\n",
    "    [0, 0, 0, 1, 1, 1, 1, 1], # mammalian_cc\n",
    "    [1, 1, 1, 0], # krasmodel15vars: [1 1] is cell cycle ON, KRAS mutation ON\n",
    "    [0, 1, 0] + [0]*2, # breast_cancer_zanudo2017\n",
    "    [1, 1] + [0]*5 + [1, 0], # EMT-Cohen model: [0/1 0/1 zeros(1,5)]\n",
    "    [1, 0, 0, 0, 1, 1]\n",
    "] \n",
    "\n",
    "initial_fixed_nodes = initial_fixed_nodes_list[model_index]\n",
    "initial_fixed_nodes_vals = initial_fixed_nodes_vals_list[model_index]\n",
    "\n",
    "\n",
    "# what is the probability of this state, (eg. dom_prob=0.8, ie. 80% probability)\n",
    "dom_prob = 1\n",
    "# if plot_flag non-empty, we get a bar plot of initial values\n",
    "plot_flag = ''"
   ]
  },
  {
   "cell_type": "code",
   "execution_count": 33,
   "metadata": {},
   "outputs": [],
   "source": [
    "def fcn_define_initial_states(initial_fixed_nodes,initial_fixed_nodes_vals,dom_prob,nodes,distrib_type,plot_flag):\n",
    "    \n",
    "    n_nodes = len(nodes)\n",
    "    \n",
    "    truth_table_inputs = np.remainder(\n",
    "        np.floor(\n",
    "            np.multiply(\n",
    "                np.array([range(pow(2, n_nodes))]).transpose(), \n",
    "                np.array([np.power([2.0]*n_nodes, np.array(range(0, -n_nodes, -1)))])\n",
    "            )\n",
    "        ), 2\n",
    "    ).astype(bool)\n",
    "    \n",
    "    # define initial values\n",
    "    x0 = np.zeros((int(pow(2, n_nodes)), 1))\n",
    "    \n",
    "    # defining a dominant initial state (eg. dom_prob=0.8, ie. 80% probability\n",
    "    initial_on_nodes_inds = [node in initial_fixed_nodes for node in nodes]                                  \n",
    "\n",
    "    statespace_decim = np.sum(\n",
    "        truth_table_inputs[:, initial_on_nodes_inds]*np.power(\n",
    "            2, \n",
    "            np.array(\n",
    "                list(reversed(range(np.sum(initial_on_nodes_inds))))\n",
    "            )\n",
    "        ), axis=1\n",
    "    )\n",
    "\n",
    "    initial_fixed_nodes_vals_decim = np.sum(\n",
    "        initial_fixed_nodes_vals*np.power(\n",
    "            2, \n",
    "            np.array(\n",
    "                list(reversed(range(len(initial_fixed_nodes_vals))))\n",
    "            )\n",
    "        )\n",
    "    )\n",
    "\n",
    "    inds_condition = np.isin(statespace_decim, initial_fixed_nodes_vals_decim)\n",
    "\n",
    "    if distrib_type == \"uniform\":\n",
    "        x0[inds_condition] = np.array([[dom_prob/sum(inds_condition)]*sum(inds_condition)]).transpose()\n",
    "        x0[np.logical_not(inds_condition)] = np.array([[(1-dom_prob)/(len(x0)-sum(inds_condition))]*(len(x0)-sum(inds_condition))]).transpose()\n",
    "    \n",
    "    elif distrib_type == \"random\":\n",
    "        x0[inds_condition] = np.random.uniform(0, 1, (sum(inds_condition), 1))\n",
    "        x0 = dom_prob*x0/sum(x0)\n",
    "\n",
    "        x0[np.logical_not(inds_condition)] = np.random.uniform(0, 1, (len(x0)-sum(inds_condition), 1))\n",
    "        x0[np.logical_not(inds_condition)] = (1-dom_prob)*x0[np.logical_not(inds_condition)]/sum(x0[np.logical_not(inds_condition)])\n",
    "    \n",
    "    else:\n",
    "        print(\"distrib type should be 'uniform' or 'random'\", file=sys.stderr)\n",
    "    \n",
    "    # rounding precision\n",
    "    n_prec=3;\n",
    "    if round(sum(x0)[0],n_prec) == 1:\n",
    "        print('sum(x0)=1, OK.')\n",
    "    \n",
    "    else:\n",
    "        print('sum(x0)~=1, something wrong!')\n",
    "\n",
    "#     if ~isempty(plot_flag)\n",
    "#     bar(x0); set(gca,'yscale','log'); xlim([1 2^n_nodes]); % ylim([(1-dom_prob)/2^n_nodes 1])\n",
    "#     % subplot(2,1,2); x0=fcn_define_initial_states(initial_on_nodes,dom_prob,nodes,'broad'); \n",
    "#     % bar(x0); xlim([1 2^13]);set(gca,'yscale','log'); ylim([(1-dom_prob)/2^n_nodes 1])\n",
    "#     end\n",
    "\n",
    "    return x0"
   ]
  },
  {
   "cell_type": "code",
   "execution_count": 34,
   "metadata": {},
   "outputs": [
    {
     "name": "stdout",
     "output_type": "stream",
     "text": [
      "sum(x0)=1, OK.\n"
     ]
    }
   ],
   "source": [
    "x0 = fcn_define_initial_states(initial_fixed_nodes, initial_fixed_nodes_vals, dom_prob, nodes, \"uniform\", plot_flag)"
   ]
  },
  {
   "cell_type": "code",
   "execution_count": 35,
   "metadata": {
    "scrolled": true
   },
   "outputs": [
    {
     "data": {
      "text/plain": [
       "(32768, 1)"
      ]
     },
     "execution_count": 35,
     "metadata": {},
     "output_type": "execute_result"
    }
   ],
   "source": [
    "x0.shape"
   ]
  },
  {
   "cell_type": "code",
   "execution_count": null,
   "metadata": {},
   "outputs": [],
   "source": []
  },
  {
   "cell_type": "code",
   "execution_count": null,
   "metadata": {},
   "outputs": [],
   "source": []
  },
  {
   "cell_type": "code",
   "execution_count": null,
   "metadata": {},
   "outputs": [],
   "source": []
  },
  {
   "cell_type": "code",
   "execution_count": null,
   "metadata": {},
   "outputs": [],
   "source": []
  }
 ],
 "metadata": {
  "kernelspec": {
   "display_name": "Python 3",
   "language": "python",
   "name": "python3"
  },
  "language_info": {
   "codemirror_mode": {
    "name": "ipython",
    "version": 3
   },
   "file_extension": ".py",
   "mimetype": "text/x-python",
   "name": "python",
   "nbconvert_exporter": "python",
   "pygments_lexer": "ipython3",
   "version": "3.6.8"
  }
 },
 "nbformat": 4,
 "nbformat_minor": 4
}
