{
 "cells": [
  {
   "cell_type": "code",
   "execution_count": 1,
   "metadata": {},
   "outputs": [],
   "source": [
    "import maboss, biolqm, exastolog"
   ]
  },
  {
   "cell_type": "markdown",
   "metadata": {},
   "source": [
    "#### First, simulate with MaBoSS"
   ]
  },
  {
   "cell_type": "code",
   "execution_count": 2,
   "metadata": {},
   "outputs": [],
   "source": [
    "bnet_model = biolqm.load(\"model_files/EMT_cohen_ModNet.bnet\")"
   ]
  },
  {
   "cell_type": "code",
   "execution_count": 3,
   "metadata": {},
   "outputs": [],
   "source": [
    "model = biolqm.to_maboss(bnet_model)"
   ]
  },
  {
   "cell_type": "code",
   "execution_count": 4,
   "metadata": {},
   "outputs": [],
   "source": [
    "model.param[\"sample_count\"] = 1000000"
   ]
  },
  {
   "cell_type": "code",
   "execution_count": 5,
   "metadata": {
    "scrolled": true
   },
   "outputs": [],
   "source": [
    "on = (0, 1)\n",
    "off = (1, 0)\n",
    "rand = (0.5, 0.5)\n",
    "\n",
    "model.network.set_istate('ECMicroenv', on)\n",
    "model.network.set_istate('DNAdamage', on)\n",
    "model.network.set_istate('GF', rand)\n",
    "model.network.set_istate('Metastasis', off)\n",
    "model.network.set_istate('Migration', off)\n",
    "model.network.set_istate('Invasion', off)\n",
    "model.network.set_istate('EMT', off)\n",
    "model.network.set_istate('Apoptosis', off)\n",
    "model.network.set_istate('CCA', rand)\n",
    "model.network.set_istate('TGFb_pthw', rand)\n",
    "model.network.set_istate('Notch_pthw', on)\n",
    "model.network.set_istate('p53', off)\n",
    "model.network.set_istate('EMTreg', rand)\n",
    "model.network.set_istate('p63_73', rand)\n",
    "model.network.set_istate('AKT1', rand)\n",
    "model.network.set_istate('AKT2', rand)\n",
    "model.network.set_istate('ERK_pthw', rand)\n",
    "model.network.set_istate('miRNA', rand)\n",
    "model.network.set_istate('Ecadh', rand)"
   ]
  },
  {
   "cell_type": "code",
   "execution_count": 6,
   "metadata": {},
   "outputs": [],
   "source": [
    "res = model.run()"
   ]
  },
  {
   "cell_type": "code",
   "execution_count": 7,
   "metadata": {},
   "outputs": [
    {
     "data": {
      "text/html": [
       "<div>\n",
       "<style scoped>\n",
       "    .dataframe tbody tr th:only-of-type {\n",
       "        vertical-align: middle;\n",
       "    }\n",
       "\n",
       "    .dataframe tbody tr th {\n",
       "        vertical-align: top;\n",
       "    }\n",
       "\n",
       "    .dataframe thead th {\n",
       "        text-align: right;\n",
       "    }\n",
       "</style>\n",
       "<table border=\"1\" class=\"dataframe\">\n",
       "  <thead>\n",
       "    <tr style=\"text-align: right;\">\n",
       "      <th></th>\n",
       "      <th>ECMicroenv -- DNAdamage -- Ecadh -- miRNA -- p53 -- Apoptosis -- CCA</th>\n",
       "      <th>ECMicroenv -- DNAdamage -- Ecadh -- p63_73 -- miRNA -- Apoptosis -- CCA</th>\n",
       "      <th>ECMicroenv -- DNAdamage -- GF -- EMTreg -- Migration -- Metastasis -- Invasion -- EMT -- AKT2 -- ERK_pthw -- TGFb_pthw -- Notch_pthw -- CCA</th>\n",
       "    </tr>\n",
       "  </thead>\n",
       "  <tbody>\n",
       "    <tr>\n",
       "      <th>999.0000</th>\n",
       "      <td>0.205331</td>\n",
       "      <td>0.144998</td>\n",
       "      <td>0.649671</td>\n",
       "    </tr>\n",
       "  </tbody>\n",
       "</table>\n",
       "</div>"
      ],
      "text/plain": [
       "          ECMicroenv -- DNAdamage -- Ecadh -- miRNA -- p53 -- Apoptosis -- CCA  \\\n",
       "999.0000                                           0.205331                      \n",
       "\n",
       "          ECMicroenv -- DNAdamage -- Ecadh -- p63_73 -- miRNA -- Apoptosis -- CCA  \\\n",
       "999.0000                                           0.144998                         \n",
       "\n",
       "          ECMicroenv -- DNAdamage -- GF -- EMTreg -- Migration -- Metastasis -- Invasion -- EMT -- AKT2 -- ERK_pthw -- TGFb_pthw -- Notch_pthw -- CCA  \n",
       "999.0000                                           0.649671                                                                                            "
      ]
     },
     "execution_count": 7,
     "metadata": {},
     "output_type": "execute_result"
    }
   ],
   "source": [
    "res.get_last_states_probtraj()"
   ]
  },
  {
   "cell_type": "markdown",
   "metadata": {},
   "source": [
    "#### Then, simulate with ExaStoLog"
   ]
  },
  {
   "cell_type": "code",
   "execution_count": 8,
   "metadata": {},
   "outputs": [],
   "source": [
    "model = exastolog.Model(\"model_files/EMT_cohen_ModNet.bnet\")\n",
    "sim = exastolog.Simulation(\n",
    "    model, \n",
    "    ['ECMicroenv','DNAdamage','Metastasis','Migration','Invasion','EMT','Apoptosis','Notch_pthw','p53'], \n",
    "    [1, 1, 0, 0, 0, 0, 0, 1, 0]\n",
    ")"
   ]
  },
  {
   "cell_type": "code",
   "execution_count": 9,
   "metadata": {},
   "outputs": [
    {
     "data": {
      "text/html": [
       "<div>\n",
       "<style scoped>\n",
       "    .dataframe tbody tr th:only-of-type {\n",
       "        vertical-align: middle;\n",
       "    }\n",
       "\n",
       "    .dataframe tbody tr th {\n",
       "        vertical-align: top;\n",
       "    }\n",
       "\n",
       "    .dataframe thead th {\n",
       "        text-align: right;\n",
       "    }\n",
       "</style>\n",
       "<table border=\"1\" class=\"dataframe\">\n",
       "  <thead>\n",
       "    <tr style=\"text-align: right;\">\n",
       "      <th></th>\n",
       "      <th>ECMicroenv -- DNAdamage -- Apoptosis -- CCA -- p53 -- miRNA -- Ecadh</th>\n",
       "      <th>ECMicroenv -- DNAdamage -- Apoptosis -- CCA -- p63_73 -- miRNA -- Ecadh</th>\n",
       "      <th>ECMicroenv -- DNAdamage -- GF -- Metastasis -- Migration -- Invasion -- EMT -- CCA -- TGFb_pthw -- Notch_pthw -- EMTreg -- AKT2 -- ERK_pthw</th>\n",
       "    </tr>\n",
       "  </thead>\n",
       "  <tbody>\n",
       "    <tr>\n",
       "      <th>0</th>\n",
       "      <td>0.198615</td>\n",
       "      <td>0.136972</td>\n",
       "      <td>0.664414</td>\n",
       "    </tr>\n",
       "  </tbody>\n",
       "</table>\n",
       "</div>"
      ],
      "text/plain": [
       "   ECMicroenv -- DNAdamage -- Apoptosis -- CCA -- p53 -- miRNA -- Ecadh  \\\n",
       "0                                           0.198615                      \n",
       "\n",
       "   ECMicroenv -- DNAdamage -- Apoptosis -- CCA -- p63_73 -- miRNA -- Ecadh  \\\n",
       "0                                           0.136972                         \n",
       "\n",
       "   ECMicroenv -- DNAdamage -- GF -- Metastasis -- Migration -- Invasion -- EMT -- CCA -- TGFb_pthw -- Notch_pthw -- EMTreg -- AKT2 -- ERK_pthw  \n",
       "0                                           0.664414                                                                                            "
      ]
     },
     "execution_count": 9,
     "metadata": {},
     "output_type": "execute_result"
    }
   ],
   "source": [
    "sim.get_last_states_probtraj()"
   ]
  },
  {
   "cell_type": "code",
   "execution_count": null,
   "metadata": {},
   "outputs": [],
   "source": []
  }
 ],
 "metadata": {
  "kernelspec": {
   "display_name": "Python 3",
   "language": "python",
   "name": "python3"
  },
  "language_info": {
   "codemirror_mode": {
    "name": "ipython",
    "version": 3
   },
   "file_extension": ".py",
   "mimetype": "text/x-python",
   "name": "python",
   "nbconvert_exporter": "python",
   "pygments_lexer": "ipython3",
   "version": "3.7.7"
  }
 },
 "nbformat": 4,
 "nbformat_minor": 4
}
