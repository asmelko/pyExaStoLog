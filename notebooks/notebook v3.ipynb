{
 "cells": [
  {
   "cell_type": "code",
   "execution_count": 1,
   "metadata": {},
   "outputs": [],
   "source": [
    "%load_ext autoreload\n",
    "%autoreload 2"
   ]
  },
  {
   "cell_type": "code",
   "execution_count": 2,
   "metadata": {},
   "outputs": [],
   "source": [
    "import networkx as nx\n",
    "import numpy as np\n",
    "import boolean\n",
    "import scipy.sparse as sparse\n",
    "import sys\n",
    "\n",
    "from exastolog.Model import Model"
   ]
  },
  {
   "cell_type": "code",
   "execution_count": 3,
   "metadata": {},
   "outputs": [],
   "source": [
    "model_name_list = [\n",
    "    'mammalian_cc', \n",
    "    'krasmodel15vars',\n",
    "    'breast_cancer_zanudo2017',\n",
    "    'EMT_cohen_ModNet',\n",
    "    'sahin_breast_cancer_refined',\n",
    "    'toy',\n",
    "    'toy2',\n",
    "    'toy3'\n",
    "]\n",
    "\n",
    "initial_fixed_nodes_list = [\n",
    "    ['CycE','CycA','CycB','Cdh1','Rb_b1','Rb_b2','p27_b1','p27_b2'], # mammalian_cc\n",
    "    ['cc','KRAS','DSB','cell_death'], #krasmodel15vars\n",
    "    ['Alpelisib', 'Everolimus','PIM','Proliferation','Apoptosis'], # breast_cancer_zanudo2017\n",
    "    ['ECMicroenv','DNAdamage','Metastasis','Migration','Invasion','EMT','Apoptosis','Notch_pthw','p53'], # EMT_cohen_ModNet \n",
    "    ['EGF','ERBB1','ERBB2','ERBB3','p21','p27'], # sahin_breast_cancer_refined\n",
    "    ['A','C','D'], # toy model with fork in stg\n",
    "    ['A', 'B', 'C'], # toy model with cycle in stg\n",
    "    ['A', 'B'] # smaller toy model with cycle in stg, one connected component\n",
    "] \n",
    "\n",
    "initial_fixed_nodes_vals_list = [\n",
    "    [0, 0, 0, 1, 1, 1, 1, 1], # mammalian_cc\n",
    "    [1, 1, 1, 0], # krasmodel15vars: [1 1] is cell cycle ON, KRAS mutation ON\n",
    "    [0, 1, 0] + [0]*2, # breast_cancer_zanudo2017\n",
    "    [1, 1] + [0]*5 + [1, 0], # EMT-Cohen model: [0/1 0/1 zeros(1,5)]\n",
    "    [1, 0, 0, 0, 1, 1],\n",
    "    [0, 0, 0],\n",
    "    [0, 0, 0],\n",
    "    [0, 0]\n",
    "] \n",
    "\n"
   ]
  },
  {
   "cell_type": "code",
   "execution_count": 4,
   "metadata": {},
   "outputs": [
    {
     "name": "stdout",
     "output_type": "stream",
     "text": [
      "['cc', 'KRAS', 'DSB', 'cell_death']\n",
      "[1, 1, 1, 0]\n"
     ]
    }
   ],
   "source": [
    "model_index = 1\n",
    "initial_fixed_nodes = initial_fixed_nodes_list[model_index]\n",
    "initial_fixed_nodes_vals = initial_fixed_nodes_vals_list[model_index]\n",
    "\n",
    "print(initial_fixed_nodes)\n",
    "print(initial_fixed_nodes_vals)"
   ]
  },
  {
   "cell_type": "code",
   "execution_count": 5,
   "metadata": {},
   "outputs": [],
   "source": [
    "model = Model(\"model_files/%s.bnet\" % model_name_list[model_index])"
   ]
  },
  {
   "cell_type": "code",
   "execution_count": 6,
   "metadata": {},
   "outputs": [
    {
     "name": "stdout",
     "output_type": "stream",
     "text": [
      "5.75Mbytes\n"
     ]
    }
   ],
   "source": [
    "print(\"%.2fMbytes\" % (model.stateTransitionTable.shape[0] * model.stateTransitionTable.shape[1] * model.stateTransitionTable.itemsize / (1024*1024)))"
   ]
  },
  {
   "cell_type": "code",
   "execution_count": 7,
   "metadata": {},
   "outputs": [
    {
     "name": "stdout",
     "output_type": "stream",
     "text": [
      "1.69 Mbytes\n"
     ]
    }
   ],
   "source": [
    "print(\"%.2f Mbytes\" % (model.stateTransitionGraph.A_sparse.data.nbytes/(1024*1024)))"
   ]
  },
  {
   "cell_type": "code",
   "execution_count": 29,
   "metadata": {},
   "outputs": [
    {
     "name": "stdout",
     "output_type": "stream",
     "text": [
      "1.0\n",
      "sum(x0)=1, OK.\n",
      "Indentifying SCCs\n",
      "Identifying SCCs in subgraphs\n",
      "STG has multiple subgraphs\n",
      "Calculating subgraph #4 of 4\n"
     ]
    }
   ],
   "source": [
    "from exastolog.Simulation import Simulation\n",
    "\n",
    "sim = Simulation(model, initial_fixed_nodes, initial_fixed_nodes_vals)"
   ]
  },
  {
   "cell_type": "code",
   "execution_count": 27,
   "metadata": {},
   "outputs": [
    {
     "name": "stdout",
     "output_type": "stream",
     "text": [
      "  (35, 0)\t0.16982301660209487\n",
      "  (67, 0)\t0.01069429074391337\n",
      "  (291, 0)\t0.25817666968396225\n",
      "  (323, 0)\t0.01918748778666668\n",
      "  (16159, 0)\t0.3131778050428693\n",
      "  (16387, 0)\t0.09025865387229715\n",
      "  (16643, 0)\t0.1386820789120975\n"
     ]
    }
   ],
   "source": [
    "print(sim.solution.stat_sol)"
   ]
  },
  {
   "cell_type": "code",
   "execution_count": 28,
   "metadata": {},
   "outputs": [
    {
     "data": {
      "text/plain": [
       "1.000000002643901"
      ]
     },
     "execution_count": 28,
     "metadata": {},
     "output_type": "execute_result"
    }
   ],
   "source": [
    "sim.solution.stat_sol.sum()"
   ]
  },
  {
   "cell_type": "code",
   "execution_count": null,
   "metadata": {},
   "outputs": [],
   "source": []
  },
  {
   "cell_type": "code",
   "execution_count": null,
   "metadata": {},
   "outputs": [],
   "source": []
  }
 ],
 "metadata": {
  "kernelspec": {
   "display_name": "Python 3",
   "language": "python",
   "name": "python3"
  },
  "language_info": {
   "codemirror_mode": {
    "name": "ipython",
    "version": 3
   },
   "file_extension": ".py",
   "mimetype": "text/x-python",
   "name": "python",
   "nbconvert_exporter": "python",
   "pygments_lexer": "ipython3",
   "version": "3.7.7"
  }
 },
 "nbformat": 4,
 "nbformat_minor": 4
}
