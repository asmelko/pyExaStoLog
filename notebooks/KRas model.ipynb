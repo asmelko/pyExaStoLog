{
 "cells": [
  {
   "cell_type": "code",
   "execution_count": 1,
   "metadata": {},
   "outputs": [],
   "source": [
    "import maboss, biolqm, exastolog"
   ]
  },
  {
   "cell_type": "markdown",
   "metadata": {},
   "source": [
    "#### First, simulate with MaBoSS"
   ]
  },
  {
   "cell_type": "code",
   "execution_count": 2,
   "metadata": {},
   "outputs": [],
   "source": [
    "bnet_model = biolqm.load(\"model_files/krasmodel15vars.bnet\")"
   ]
  },
  {
   "cell_type": "code",
   "execution_count": 3,
   "metadata": {},
   "outputs": [],
   "source": [
    "model = biolqm.to_maboss(bnet_model)"
   ]
  },
  {
   "cell_type": "code",
   "execution_count": 4,
   "metadata": {},
   "outputs": [],
   "source": [
    "model.param[\"time_tick\"] = 0.1\n",
    "model.param[\"max_time\"] = 100\n",
    "model.param[\"sample_count\"] = 100000"
   ]
  },
  {
   "cell_type": "code",
   "execution_count": 5,
   "metadata": {
    "scrolled": true
   },
   "outputs": [],
   "source": [
    "on = (0, 1)\n",
    "off = (1, 0)\n",
    "rand = (0.5, 0.5)\n",
    "\n",
    "model.network.set_istate('cc', on)\n",
    "model.network.set_istate('KRAS', on)\n",
    "model.network.set_istate('DSB', on)\n",
    "model.network.set_istate('cell_death', off)\n",
    "\n",
    "model.network.set_istate('CHEK1', rand)\n",
    "model.network.set_istate('MAPKAPK2', rand)\n",
    "model.network.set_istate('FAHRR', rand)\n",
    "model.network.set_istate('HRR2', rand)\n",
    "model.network.set_istate('CDC25B', rand)\n",
    "model.network.set_istate('g2m_trans', rand)\n",
    "model.network.set_istate('ATM', rand)\n",
    "model.network.set_istate('ATR', rand)\n",
    "model.network.set_istate('FAcore', rand)\n",
    "model.network.set_istate('FANCD2I', rand)\n",
    "model.network.set_istate('NHEJ', rand)"
   ]
  },
  {
   "cell_type": "code",
   "execution_count": 6,
   "metadata": {},
   "outputs": [],
   "source": [
    "res = model.run()"
   ]
  },
  {
   "cell_type": "code",
   "execution_count": 7,
   "metadata": {},
   "outputs": [
    {
     "data": {
      "text/html": [
       "<div>\n",
       "<style scoped>\n",
       "    .dataframe tbody tr th:only-of-type {\n",
       "        vertical-align: middle;\n",
       "    }\n",
       "\n",
       "    .dataframe tbody tr th {\n",
       "        vertical-align: top;\n",
       "    }\n",
       "\n",
       "    .dataframe thead th {\n",
       "        text-align: right;\n",
       "    }\n",
       "</style>\n",
       "<table border=\"1\" class=\"dataframe\">\n",
       "  <thead>\n",
       "    <tr style=\"text-align: right;\">\n",
       "      <th></th>\n",
       "      <th>cc -- KRAS -- DSB -- ATM -- ATR -- CHEK1 -- MAPKAPK2 -- cell_death -- FANCD2I -- g2m_trans -- FAcore</th>\n",
       "      <th>cc -- KRAS -- FAHRR</th>\n",
       "      <th>cc -- KRAS -- FAHRR -- g2m_trans</th>\n",
       "      <th>cc -- KRAS -- HRR2</th>\n",
       "      <th>cc -- KRAS -- HRR2 -- g2m_trans</th>\n",
       "      <th>cc -- KRAS -- NHEJ</th>\n",
       "      <th>cc -- KRAS -- NHEJ -- g2m_trans</th>\n",
       "    </tr>\n",
       "  </thead>\n",
       "  <tbody>\n",
       "    <tr>\n",
       "      <th>99.8000</th>\n",
       "      <td>0.31419</td>\n",
       "      <td>0.17033</td>\n",
       "      <td>0.25851</td>\n",
       "      <td>0.01041</td>\n",
       "      <td>0.02035</td>\n",
       "      <td>0.089</td>\n",
       "      <td>0.13721</td>\n",
       "    </tr>\n",
       "  </tbody>\n",
       "</table>\n",
       "</div>"
      ],
      "text/plain": [
       "         cc -- KRAS -- DSB -- ATM -- ATR -- CHEK1 -- MAPKAPK2 -- cell_death -- FANCD2I -- g2m_trans -- FAcore  \\\n",
       "99.8000                                            0.31419                                                      \n",
       "\n",
       "         cc -- KRAS -- FAHRR  cc -- KRAS -- FAHRR -- g2m_trans  \\\n",
       "99.8000              0.17033                           0.25851   \n",
       "\n",
       "         cc -- KRAS -- HRR2  cc -- KRAS -- HRR2 -- g2m_trans  \\\n",
       "99.8000             0.01041                          0.02035   \n",
       "\n",
       "         cc -- KRAS -- NHEJ  cc -- KRAS -- NHEJ -- g2m_trans  \n",
       "99.8000               0.089                          0.13721  "
      ]
     },
     "execution_count": 7,
     "metadata": {},
     "output_type": "execute_result"
    }
   ],
   "source": [
    "res.get_last_states_probtraj()"
   ]
  },
  {
   "cell_type": "markdown",
   "metadata": {},
   "source": [
    "#### Then, simulate with ExaStoLog"
   ]
  },
  {
   "cell_type": "code",
   "execution_count": 8,
   "metadata": {},
   "outputs": [
    {
     "name": "stdout",
     "output_type": "stream",
     "text": [
      "sum(x0)=1, OK.\n",
      "Indentifying SCCs\n",
      "Identifying SCCs in subgraphs\n",
      "STG has multiple subgraphs\n",
      "Calculating subgraph #4 of 4\n"
     ]
    }
   ],
   "source": [
    "model = exastolog.Model(\"model_files/krasmodel15vars.bnet\")\n",
    "sim = exastolog.Simulation(model, ['cc','KRAS','DSB','cell_death'], [1, 1, 1, 0])"
   ]
  },
  {
   "cell_type": "code",
   "execution_count": 9,
   "metadata": {},
   "outputs": [
    {
     "name": "stdout",
     "output_type": "stream",
     "text": [
      "  (35, 0)\t0.16982301660209487\n",
      "  (67, 0)\t0.01069429074391337\n",
      "  (291, 0)\t0.25817666968396225\n",
      "  (323, 0)\t0.01918748778666668\n",
      "  (16159, 0)\t0.3131778050428693\n",
      "  (16387, 0)\t0.09025865387229715\n",
      "  (16643, 0)\t0.1386820789120975\n"
     ]
    }
   ],
   "source": [
    "print(sim.solution.stat_sol)"
   ]
  },
  {
   "cell_type": "code",
   "execution_count": null,
   "metadata": {},
   "outputs": [],
   "source": []
  }
 ],
 "metadata": {
  "kernelspec": {
   "display_name": "Python 3",
   "language": "python",
   "name": "python3"
  },
  "language_info": {
   "codemirror_mode": {
    "name": "ipython",
    "version": 3
   },
   "file_extension": ".py",
   "mimetype": "text/x-python",
   "name": "python",
   "nbconvert_exporter": "python",
   "pygments_lexer": "ipython3",
   "version": "3.7.7"
  }
 },
 "nbformat": 4,
 "nbformat_minor": 4
}
